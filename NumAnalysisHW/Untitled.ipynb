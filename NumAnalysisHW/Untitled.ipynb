{
 "cells": [
  {
   "cell_type": "code",
   "execution_count": 42,
   "metadata": {},
   "outputs": [],
   "source": [
    "import numpy as np\n",
    "import pandas\n",
    "from numpy import sin, cos, exp\n",
    "import matplotlib.pyplot as plt\n",
    "import matplotlib as mpl\n",
    "import scipy.interpolate # use for scipy.interpolate.CubicHermiteSpline\n",
    "from scipy.integrate import solve_ivp\n"
   ]
  },
  {
   "cell_type": "code",
   "execution_count": 4,
   "metadata": {},
   "outputs": [],
   "source": [
    "midpoint = lambda a,b : a + (b-a)/2\n",
    "\n",
    "errorBound = lambda a,b : (b-a)/2\n",
    "\n",
    "oppositeSign = lambda fa,fb :  np.sign(fa)*np.sign(fb) < 0\n",
    "\n",
    "def bisection( f, interval, tol=1e-9, maxIters = 100):\n",
    "  \"\"\"Assuming f is continuous and changes sign on the interval,\n",
    "  this returns an approximation of a root\n",
    "\n",
    "  bisection( f, interval, tol=[...], maxIters=[...])\n",
    "    interval = (a,b)  should be a tupple\n",
    "  \"\"\"\n",
    "  a,b = interval  # unpack it\n",
    "  fa,fb = f(a),f(b)\n",
    "  if not oppositeSign(fa,fb):\n",
    "    raise ValueError('Interval function does not change sign, may not contain root')\n",
    "  if errorBound( fa, fb) < tol:\n",
    "    return\n",
    "  \n",
    "  p   = midpoint(a,b)\n",
    "  fp  = f(p)\n",
    "  history = [p]\n",
    "  fcn_history = [fp]\n",
    "  iters = 0\n",
    "\n",
    "  while errorBound( fa, fb) > tol and iters <= maxIters :\n",
    "    iters += 1\n",
    "\n",
    "    if oppositeSign( fa, fp ):\n",
    "      b,fb = p,fp\n",
    "    else:\n",
    "      a,fa = p,fp\n",
    "\n",
    "    p   = midpoint(a,b)\n",
    "    fp  = f(p)\n",
    "    history.append(p)\n",
    "    fcn_history.append(fp)\n",
    "  return p, history, fcn_history"
   ]
  },
  {
   "cell_type": "code",
   "execution_count": 8,
   "metadata": {},
   "outputs": [
    {
     "ename": "TypeError",
     "evalue": "'NoneType' object is not iterable",
     "output_type": "error",
     "traceback": [
      "\u001b[0;31m---------------------------------------------------------------------------\u001b[0m",
      "\u001b[0;31mTypeError\u001b[0m                                 Traceback (most recent call last)",
      "\u001b[0;32m<ipython-input-8-205ae83cbc16>\u001b[0m in \u001b[0;36m<module>\u001b[0;34m()\u001b[0m\n\u001b[1;32m      2\u001b[0m \u001b[0mcoeff\u001b[0m \u001b[0;34m=\u001b[0m \u001b[0mnp\u001b[0m\u001b[0;34m.\u001b[0m\u001b[0mpoly\u001b[0m\u001b[0;34m(\u001b[0m\u001b[0mseq1\u001b[0m\u001b[0;34m)\u001b[0m\u001b[0;34m\u001b[0m\u001b[0m\n\u001b[1;32m      3\u001b[0m \u001b[0mpoly\u001b[0m \u001b[0;34m=\u001b[0m \u001b[0mnp\u001b[0m\u001b[0;34m.\u001b[0m\u001b[0mpoly1d\u001b[0m\u001b[0;34m(\u001b[0m\u001b[0mcoeff\u001b[0m\u001b[0;34m)\u001b[0m\u001b[0;34m\u001b[0m\u001b[0m\n\u001b[0;32m----> 4\u001b[0;31m \u001b[0mp\u001b[0m\u001b[0;34m,\u001b[0m \u001b[0mhistory\u001b[0m\u001b[0;34m,\u001b[0m \u001b[0mf_history\u001b[0m \u001b[0;34m=\u001b[0m \u001b[0mbisection\u001b[0m\u001b[0;34m(\u001b[0m\u001b[0mpoly\u001b[0m\u001b[0;34m,\u001b[0m \u001b[0;34m(\u001b[0m\u001b[0;36m4.82\u001b[0m\u001b[0;34m,\u001b[0m\u001b[0;36m5.2\u001b[0m\u001b[0;34m)\u001b[0m\u001b[0;34m,\u001b[0m \u001b[0mtol\u001b[0m \u001b[0;34m=\u001b[0m \u001b[0;36m1e-4\u001b[0m \u001b[0;34m)\u001b[0m\u001b[0;34m\u001b[0m\u001b[0m\n\u001b[0m\u001b[1;32m      5\u001b[0m \u001b[0;34m\u001b[0m\u001b[0m\n\u001b[1;32m      6\u001b[0m \u001b[0;32mfor\u001b[0m \u001b[0mi\u001b[0m\u001b[0;34m,\u001b[0m\u001b[0;34m(\u001b[0m\u001b[0mp\u001b[0m\u001b[0;34m,\u001b[0m\u001b[0mfp\u001b[0m\u001b[0;34m)\u001b[0m \u001b[0;32min\u001b[0m \u001b[0menumerate\u001b[0m\u001b[0;34m(\u001b[0m \u001b[0mzip\u001b[0m\u001b[0;34m(\u001b[0m\u001b[0mhistory\u001b[0m\u001b[0;34m,\u001b[0m\u001b[0mf_history\u001b[0m\u001b[0;34m)\u001b[0m \u001b[0;34m)\u001b[0m\u001b[0;34m:\u001b[0m\u001b[0;34m\u001b[0m\u001b[0m\n",
      "\u001b[0;31mTypeError\u001b[0m: 'NoneType' object is not iterable"
     ]
    }
   ],
   "source": [
    "seq1 = (5,5,5,5,5,5,5,5,5)\n",
    "coeff = np.poly(seq1)\n",
    "poly = np.poly1d(coeff)\n",
    "p, history, f_history = bisection(poly, (4.82,5.2), tol = 1e-4 )\n",
    "\n",
    "for i,(p,fp) in enumerate( zip(history,f_history) ):\n",
    "  print( \"Iter {:2d}, p={:.16f}, |f(p)| = {:.2e}.\".format(i,p,abs(fp)))"
   ]
  },
  {
   "cell_type": "code",
   "execution_count": null,
   "metadata": {},
   "outputs": [],
   "source": []
  },
  {
   "cell_type": "code",
   "execution_count": 2,
   "metadata": {},
   "outputs": [
    {
     "data": {
      "text/plain": [
       "1.0"
      ]
     },
     "execution_count": 2,
     "metadata": {},
     "output_type": "execute_result"
    }
   ],
   "source": [
    "p = lambda x: (-1/6)*(x-1)*(x-2)*(x-3) + (x-0)*(x-2)*(x-3) - (3/2)*(x-0)*(x-1)*(x-3) - (2/3)*(x-0)*(x-1)*(x-2)\n",
    "p((1/2))"
   ]
  },
  {
   "cell_type": "code",
   "execution_count": 5,
   "metadata": {},
   "outputs": [],
   "source": [
    "t = lambda x: -(x**2)/math.factorial(2) + (x**4)/math.factorial(4) - (x**6)/math.factorial(6) + (x**8)/math.factorial(8) - (x**10)/math.factorial(10)"
   ]
  },
  {
   "cell_type": "code",
   "execution_count": 6,
   "metadata": {},
   "outputs": [
    {
     "data": {
      "image/png": "[encoded data removed]",
      "text/latex": [
       "$$-2.0000000000000002e-16$$"
      ],
      "text/plain": [
       "-2.0000000000000002e-16"
      ]
     },
     "execution_count": 6,
     "metadata": {},
     "output_type": "execute_result"
    }
   ],
   "source": [
    "t(2e-8)"
   ]
  },
  {
   "cell_type": "code",
   "execution_count": 7,
   "metadata": {},
   "outputs": [
    {
     "data": {
      "image/png": "[encoded data removed]",
      "text/latex": [
       "$$-2.220446049250313e-16$$"
      ],
      "text/plain": [
       "-2.220446049250313e-16"
      ]
     },
     "execution_count": 7,
     "metadata": {},
     "output_type": "execute_result"
    }
   ],
   "source": [
    "math.cos(2e-8)-1"
   ]
  },
  {
   "cell_type": "code",
   "execution_count": 8,
   "metadata": {},
   "outputs": [],
   "source": [
    "def bisection( f, interval, tol=1e-9, totalIters = 100):\n",
    "    a,b = interval \n",
    "    fa,fb = f(a),f(b)\n",
    "    oppositeSign = lambda fa,fb :  np.sign(fa)*np.sign(fb) < 0\n",
    "    errorBound = lambda a,b : (b-a)/2\n",
    "    midpoint = lambda a,b : a + (b-a)/2\n",
    "    if not oppositeSign(fa,fb):\n",
    "        raise ValueError('Function does not change sign on the interval. May not contain root on Interval')\n",
    "  \n",
    "\n",
    "    p   = midpoint(a,b)\n",
    "    fp  = f(p)\n",
    "    history = [p]\n",
    "    f_history = [fp]\n",
    "    iteration = 0\n",
    "\n",
    "    while errorBound( fa, fb) > tol and iteration <= totalIters :\n",
    "        iteration += 1\n",
    "\n",
    "        if oppositeSign( fa, fp ):\n",
    "              b,fb = p,fp\n",
    "        else:\n",
    "              a,fa = p,fp\n",
    "\n",
    "        p   = midpoint(a,b)\n",
    "        fp  = f(p)\n",
    "        history.append(p)\n",
    "        f_history.append(fp)\n",
    "    return p, history, f_history"
   ]
  },
  {
   "cell_type": "code",
   "execution_count": 12,
   "metadata": {},
   "outputs": [
    {
     "name": "stdout",
     "output_type": "stream",
     "text": [
      "Iter  0, p=1.5000000000000000, |f(p)| = 2.50e-01\n",
      "Iter  1, p=1.2500000000000000, |f(p)| = 4.38e-01\n",
      "Iter  2, p=1.3750000000000000, |f(p)| = 1.09e-01\n",
      "Iter  3, p=1.4375000000000000, |f(p)| = 6.64e-02\n",
      "Iter  4, p=1.4062500000000000, |f(p)| = 2.25e-02\n",
      "Iter  5, p=1.4218750000000000, |f(p)| = 2.17e-02\n",
      "Iter  6, p=1.4140625000000000, |f(p)| = 4.27e-04\n",
      "Iter  7, p=1.4179687500000000, |f(p)| = 1.06e-02\n",
      "Iter  8, p=1.4160156250000000, |f(p)| = 5.10e-03\n",
      "Iter  9, p=1.4150390625000000, |f(p)| = 2.34e-03\n",
      "Iter 10, p=1.4145507812500000, |f(p)| = 9.54e-04\n",
      "Iter 11, p=1.4143066406250000, |f(p)| = 2.63e-04\n",
      "Iter 12, p=1.4141845703125000, |f(p)| = 8.20e-05\n",
      "Iter 13, p=1.4142456054687500, |f(p)| = 9.06e-05\n",
      "Iter 14, p=1.4142150878906250, |f(p)| = 4.31e-06\n",
      "Iter 15, p=1.4141998291015625, |f(p)| = 3.88e-05\n",
      "Iter 16, p=1.4142074584960938, |f(p)| = 1.73e-05\n",
      "Iter 17, p=1.4142112731933594, |f(p)| = 6.47e-06\n",
      "Iter 18, p=1.4142131805419922, |f(p)| = 1.08e-06\n",
      "Iter 19, p=1.4142141342163086, |f(p)| = 1.62e-06\n",
      "Iter 20, p=1.4142136573791504, |f(p)| = 2.69e-07\n",
      "Iter 21, p=1.4142134189605713, |f(p)| = 4.06e-07\n"
     ]
    }
   ],
   "source": [
    "f = lambda x : x**2 - 2\n",
    "p, history, f_history = bisection(f, (1,2), tol = 2**(-20) )\n",
    "for i,(p,fp) in enumerate( zip(history,f_history) ):\n",
    "    print( \"Iter {:2d}, p={:.16f}, |f(p)| = {:.2e}\".format(i,p,abs(fp)))"
   ]
  },
  {
   "cell_type": "code",
   "execution_count": 83,
   "metadata": {},
   "outputs": [
    {
     "data": {
      "image/png": "[encoded data removed]",
      "text/latex": [
       "$$3.141584075466852$$"
      ],
      "text/plain": [
       "3.141584075466852"
      ]
     },
     "execution_count": 83,
     "metadata": {},
     "output_type": "execute_result"
    }
   ],
   "source": [
    "N_2_hd2 =  3.141593478636688\n",
    "N_2_h = 3.141602881806524\n",
    "\n",
    "N_3_h = N_2_hd2+ ((N_2_hd2 - N_2_h)/((2**(1))-1))\n",
    "N_3_h"
   ]
  },
  {
   "cell_type": "code",
   "execution_count": 17,
   "metadata": {},
   "outputs": [],
   "source": [
    "# write it as \"forward_Euler\" instead of camelCase \"forwardEuler\"\n",
    "#   following suggestions of PEP8 style guide, https://pep8.org/\n",
    "def forward_Euler( f, y0, tspan, h=0.1, dense_output=False):\n",
    "  \"\"\" Solve IVP y' = f(t,y) on a <= t <= b, y(a)=y0, via improved Euler with stepsize h\n",
    "  This code has NOT been tested to work with systems.\n",
    "  Returns tHist, wHist where wHist[i] approximates y( tHist[i] )\n",
    "  \"\"\"\n",
    "  if len(tspan) is not 2:\n",
    "    raise ValueError(\"tspan must be array of length 2\")\n",
    "  a, b = tspan[0], tspan[1]  \n",
    "  # Initialize\n",
    "  t    = a\n",
    "  w    = y0\n",
    "  # Update history\n",
    "  tHist = [t]\n",
    "  wHist = [w]  # w[i] approximates y( t[i] )\n",
    "  dydtHist = []\n",
    "  # Loop\n",
    "  while t < b :\n",
    "    tNext = min(t+h,b)  # don't go too far\n",
    "    hh    = tNext - t   # hh is just h except perhaps at the last time step\n",
    "    dydt  = f(t,w)\n",
    "    w    += hh*dydt     # this is the heart of forward Euler\n",
    "    t     = tNext\n",
    "    # Update history\n",
    "    tHist.append(t)\n",
    "    wHist.append(w)\n",
    "    dydtHist.append(dydt)\n",
    "\n",
    "  dydtHist.append( f(t,w) )# lagged\n",
    "\n",
    "  if dense_output is True:\n",
    "    sol = scipy.interpolate.CubicHermiteSpline(tHist,wHist,dydtHist)\n",
    "    return np.array(tHist), np.array(wHist), sol\n",
    "  else:  \n",
    "    return np.array(tHist), np.array(wHist)"
   ]
  },
  {
   "cell_type": "code",
   "execution_count": 35,
   "metadata": {},
   "outputs": [
    {
     "ename": "TypeError",
     "evalue": "unsupported operand type(s) for *: 'int' and 'function'",
     "output_type": "error",
     "traceback": [
      "\u001b[0;31m---------------------------------------------------------------------------\u001b[0m",
      "\u001b[0;31mTypeError\u001b[0m                                 Traceback (most recent call last)",
      "\u001b[0;32m<ipython-input-35-ae4adaa4f90a>\u001b[0m in \u001b[0;36m<module>\u001b[0;34m()\u001b[0m\n\u001b[1;32m      4\u001b[0m \u001b[0mtspan\u001b[0m \u001b[0;34m=\u001b[0m \u001b[0;34m[\u001b[0m\u001b[0;36m0.0\u001b[0m\u001b[0;34m,\u001b[0m\u001b[0;36m1.0\u001b[0m\u001b[0;34m]\u001b[0m\u001b[0;34m\u001b[0m\u001b[0m\n\u001b[1;32m      5\u001b[0m \u001b[0;34m\u001b[0m\u001b[0m\n\u001b[0;32m----> 6\u001b[0;31m \u001b[0mtHist\u001b[0m\u001b[0;34m,\u001b[0m \u001b[0mwHist\u001b[0m \u001b[0;34m=\u001b[0m \u001b[0mforward_Euler\u001b[0m\u001b[0;34m(\u001b[0m \u001b[0mf\u001b[0m\u001b[0;34m,\u001b[0m \u001b[0my0\u001b[0m\u001b[0;34m,\u001b[0m \u001b[0mtspan\u001b[0m\u001b[0;34m,\u001b[0m \u001b[0mh\u001b[0m\u001b[0;34m=\u001b[0m\u001b[0;36m.25\u001b[0m\u001b[0;34m,\u001b[0m\u001b[0mdense_output\u001b[0m\u001b[0;34m=\u001b[0m\u001b[0;32mFalse\u001b[0m\u001b[0;34m)\u001b[0m\u001b[0;34m\u001b[0m\u001b[0m\n\u001b[0m\u001b[1;32m      7\u001b[0m \u001b[0;34m\u001b[0m\u001b[0m\n\u001b[1;32m      8\u001b[0m \u001b[0mlen\u001b[0m\u001b[0;34m(\u001b[0m\u001b[0mtHist\u001b[0m\u001b[0;34m)\u001b[0m\u001b[0;34m,\u001b[0m \u001b[0mlen\u001b[0m\u001b[0;34m(\u001b[0m\u001b[0mwHist\u001b[0m\u001b[0;34m)\u001b[0m\u001b[0;34m\u001b[0m\u001b[0m\n",
      "\u001b[0;32m<ipython-input-17-b79bf14f81c8>\u001b[0m in \u001b[0;36mforward_Euler\u001b[0;34m(f, y0, tspan, h, dense_output)\u001b[0m\n\u001b[1;32m     20\u001b[0m     \u001b[0mtNext\u001b[0m \u001b[0;34m=\u001b[0m \u001b[0mmin\u001b[0m\u001b[0;34m(\u001b[0m\u001b[0mt\u001b[0m\u001b[0;34m+\u001b[0m\u001b[0mh\u001b[0m\u001b[0;34m,\u001b[0m\u001b[0mb\u001b[0m\u001b[0;34m)\u001b[0m  \u001b[0;31m# don't go too far\u001b[0m\u001b[0;34m\u001b[0m\u001b[0m\n\u001b[1;32m     21\u001b[0m     \u001b[0mhh\u001b[0m    \u001b[0;34m=\u001b[0m \u001b[0mtNext\u001b[0m \u001b[0;34m-\u001b[0m \u001b[0mt\u001b[0m   \u001b[0;31m# hh is just h except perhaps at the last time step\u001b[0m\u001b[0;34m\u001b[0m\u001b[0m\n\u001b[0;32m---> 22\u001b[0;31m     \u001b[0mdydt\u001b[0m  \u001b[0;34m=\u001b[0m \u001b[0mf\u001b[0m\u001b[0;34m(\u001b[0m\u001b[0mt\u001b[0m\u001b[0;34m,\u001b[0m\u001b[0mw\u001b[0m\u001b[0;34m)\u001b[0m\u001b[0;34m\u001b[0m\u001b[0m\n\u001b[0m\u001b[1;32m     23\u001b[0m     \u001b[0mw\u001b[0m    \u001b[0;34m+=\u001b[0m \u001b[0mhh\u001b[0m\u001b[0;34m*\u001b[0m\u001b[0mdydt\u001b[0m     \u001b[0;31m# this is the heart of forward Euler\u001b[0m\u001b[0;34m\u001b[0m\u001b[0m\n\u001b[1;32m     24\u001b[0m     \u001b[0mt\u001b[0m     \u001b[0;34m=\u001b[0m \u001b[0mtNext\u001b[0m\u001b[0;34m\u001b[0m\u001b[0m\n",
      "\u001b[0;32m<ipython-input-35-ae4adaa4f90a>\u001b[0m in \u001b[0;36m<lambda>\u001b[0;34m(t, y)\u001b[0m\n\u001b[1;32m      1\u001b[0m \u001b[0mk\u001b[0m \u001b[0;34m=\u001b[0m \u001b[0;36m5\u001b[0m\u001b[0;34m\u001b[0m\u001b[0m\n\u001b[0;32m----> 2\u001b[0;31m \u001b[0mf\u001b[0m  \u001b[0;34m=\u001b[0m \u001b[0;32mlambda\u001b[0m \u001b[0mt\u001b[0m\u001b[0;34m,\u001b[0m\u001b[0my\u001b[0m\u001b[0;34m:\u001b[0m \u001b[0;36m10\u001b[0m\u001b[0;34m*\u001b[0m\u001b[0my\u001b[0m\u001b[0;34m**\u001b[0m\u001b[0;36m2\u001b[0m\u001b[0;34m+\u001b[0m\u001b[0;36m0\u001b[0m\u001b[0;34m*\u001b[0m\u001b[0mf\u001b[0m\u001b[0;34m\u001b[0m\u001b[0m\n\u001b[0m\u001b[1;32m      3\u001b[0m \u001b[0my0\u001b[0m \u001b[0;34m=\u001b[0m \u001b[0;36m.1\u001b[0m\u001b[0;34m\u001b[0m\u001b[0m\n\u001b[1;32m      4\u001b[0m \u001b[0mtspan\u001b[0m \u001b[0;34m=\u001b[0m \u001b[0;34m[\u001b[0m\u001b[0;36m0.0\u001b[0m\u001b[0;34m,\u001b[0m\u001b[0;36m1.0\u001b[0m\u001b[0;34m]\u001b[0m\u001b[0;34m\u001b[0m\u001b[0m\n\u001b[1;32m      5\u001b[0m \u001b[0;34m\u001b[0m\u001b[0m\n",
      "\u001b[0;31mTypeError\u001b[0m: unsupported operand type(s) for *: 'int' and 'function'"
     ]
    }
   ],
   "source": [
    "k = 5\n",
    "f  = lambda t,y: 10*y**2+0*f\n",
    "y0 = .1\n",
    "tspan = [0.0,1.0]\n",
    "\n",
    "tHist, wHist = forward_Euler( f, y0, tspan, h=.25,dense_output=False)\n",
    "\n",
    "len(tHist), len(wHist)\n",
    "\n",
    "t_points  = np.linspace(tspan[0],tspan[1],200)\n",
    "\n",
    "#plt.plot(tHist, wHist)\n",
    "\n",
    "data = {'t': tHist, 'y(t)': wHist}\n",
    "df = pandas.DataFrame(data=data)"
   ]
  },
  {
   "cell_type": "code",
   "execution_count": 33,
   "metadata": {},
   "outputs": [
    {
     "data": {
      "text/html": [
       "<div>\n",
       "<style scoped>\n",
       "    .dataframe tbody tr th:only-of-type {\n",
       "        vertical-align: middle;\n",
       "    }\n",
       "\n",
       "    .dataframe tbody tr th {\n",
       "        vertical-align: top;\n",
       "    }\n",
       "\n",
       "    .dataframe thead th {\n",
       "        text-align: right;\n",
       "    }\n",
       "</style>\n",
       "<table border=\"1\" class=\"dataframe\">\n",
       "  <thead>\n",
       "    <tr style=\"text-align: right;\">\n",
       "      <th></th>\n",
       "      <th>t</th>\n",
       "      <th>y(t)</th>\n",
       "    </tr>\n",
       "  </thead>\n",
       "  <tbody>\n",
       "    <tr>\n",
       "      <th>0</th>\n",
       "      <td>0.0</td>\n",
       "      <td>0.200000</td>\n",
       "    </tr>\n",
       "    <tr>\n",
       "      <th>1</th>\n",
       "      <td>0.2</td>\n",
       "      <td>1.000000</td>\n",
       "    </tr>\n",
       "    <tr>\n",
       "      <th>2</th>\n",
       "      <td>0.4</td>\n",
       "      <td>0.980067</td>\n",
       "    </tr>\n",
       "    <tr>\n",
       "      <th>3</th>\n",
       "      <td>0.6</td>\n",
       "      <td>0.921061</td>\n",
       "    </tr>\n",
       "    <tr>\n",
       "      <th>4</th>\n",
       "      <td>0.8</td>\n",
       "      <td>0.825336</td>\n",
       "    </tr>\n",
       "    <tr>\n",
       "      <th>5</th>\n",
       "      <td>1.0</td>\n",
       "      <td>0.696707</td>\n",
       "    </tr>\n",
       "    <tr>\n",
       "      <th>6</th>\n",
       "      <td>1.2</td>\n",
       "      <td>0.540302</td>\n",
       "    </tr>\n",
       "    <tr>\n",
       "      <th>7</th>\n",
       "      <td>1.4</td>\n",
       "      <td>0.362358</td>\n",
       "    </tr>\n",
       "    <tr>\n",
       "      <th>8</th>\n",
       "      <td>1.6</td>\n",
       "      <td>0.169967</td>\n",
       "    </tr>\n",
       "    <tr>\n",
       "      <th>9</th>\n",
       "      <td>1.8</td>\n",
       "      <td>-0.029200</td>\n",
       "    </tr>\n",
       "    <tr>\n",
       "      <th>10</th>\n",
       "      <td>2.0</td>\n",
       "      <td>-0.227202</td>\n",
       "    </tr>\n",
       "    <tr>\n",
       "      <th>11</th>\n",
       "      <td>2.2</td>\n",
       "      <td>-0.416147</td>\n",
       "    </tr>\n",
       "    <tr>\n",
       "      <th>12</th>\n",
       "      <td>2.4</td>\n",
       "      <td>-0.588501</td>\n",
       "    </tr>\n",
       "    <tr>\n",
       "      <th>13</th>\n",
       "      <td>2.6</td>\n",
       "      <td>-0.737394</td>\n",
       "    </tr>\n",
       "    <tr>\n",
       "      <th>14</th>\n",
       "      <td>2.8</td>\n",
       "      <td>-0.856889</td>\n",
       "    </tr>\n",
       "    <tr>\n",
       "      <th>15</th>\n",
       "      <td>3.0</td>\n",
       "      <td>-0.942222</td>\n",
       "    </tr>\n",
       "    <tr>\n",
       "      <th>16</th>\n",
       "      <td>3.2</td>\n",
       "      <td>-0.989992</td>\n",
       "    </tr>\n",
       "    <tr>\n",
       "      <th>17</th>\n",
       "      <td>3.4</td>\n",
       "      <td>-0.998295</td>\n",
       "    </tr>\n",
       "    <tr>\n",
       "      <th>18</th>\n",
       "      <td>3.6</td>\n",
       "      <td>-0.966798</td>\n",
       "    </tr>\n",
       "    <tr>\n",
       "      <th>19</th>\n",
       "      <td>3.8</td>\n",
       "      <td>-0.896758</td>\n",
       "    </tr>\n",
       "    <tr>\n",
       "      <th>20</th>\n",
       "      <td>4.0</td>\n",
       "      <td>-0.790968</td>\n",
       "    </tr>\n",
       "    <tr>\n",
       "      <th>21</th>\n",
       "      <td>4.2</td>\n",
       "      <td>-0.653644</td>\n",
       "    </tr>\n",
       "    <tr>\n",
       "      <th>22</th>\n",
       "      <td>4.4</td>\n",
       "      <td>-0.490261</td>\n",
       "    </tr>\n",
       "    <tr>\n",
       "      <th>23</th>\n",
       "      <td>4.6</td>\n",
       "      <td>-0.307333</td>\n",
       "    </tr>\n",
       "    <tr>\n",
       "      <th>24</th>\n",
       "      <td>4.8</td>\n",
       "      <td>-0.112153</td>\n",
       "    </tr>\n",
       "    <tr>\n",
       "      <th>25</th>\n",
       "      <td>5.0</td>\n",
       "      <td>0.087499</td>\n",
       "    </tr>\n",
       "    <tr>\n",
       "      <th>26</th>\n",
       "      <td>5.2</td>\n",
       "      <td>0.283662</td>\n",
       "    </tr>\n",
       "    <tr>\n",
       "      <th>27</th>\n",
       "      <td>5.4</td>\n",
       "      <td>0.468517</td>\n",
       "    </tr>\n",
       "    <tr>\n",
       "      <th>28</th>\n",
       "      <td>5.6</td>\n",
       "      <td>0.634693</td>\n",
       "    </tr>\n",
       "    <tr>\n",
       "      <th>29</th>\n",
       "      <td>5.8</td>\n",
       "      <td>0.775566</td>\n",
       "    </tr>\n",
       "    <tr>\n",
       "      <th>...</th>\n",
       "      <td>...</td>\n",
       "      <td>...</td>\n",
       "    </tr>\n",
       "    <tr>\n",
       "      <th>72</th>\n",
       "      <td>14.4</td>\n",
       "      <td>-0.062792</td>\n",
       "    </tr>\n",
       "    <tr>\n",
       "      <th>73</th>\n",
       "      <td>14.6</td>\n",
       "      <td>-0.259817</td>\n",
       "    </tr>\n",
       "    <tr>\n",
       "      <th>74</th>\n",
       "      <td>14.8</td>\n",
       "      <td>-0.446485</td>\n",
       "    </tr>\n",
       "    <tr>\n",
       "      <th>75</th>\n",
       "      <td>15.0</td>\n",
       "      <td>-0.615352</td>\n",
       "    </tr>\n",
       "    <tr>\n",
       "      <th>76</th>\n",
       "      <td>15.2</td>\n",
       "      <td>-0.759688</td>\n",
       "    </tr>\n",
       "    <tr>\n",
       "      <th>77</th>\n",
       "      <td>15.4</td>\n",
       "      <td>-0.873737</td>\n",
       "    </tr>\n",
       "    <tr>\n",
       "      <th>78</th>\n",
       "      <td>15.6</td>\n",
       "      <td>-0.952953</td>\n",
       "    </tr>\n",
       "    <tr>\n",
       "      <th>79</th>\n",
       "      <td>15.8</td>\n",
       "      <td>-0.994178</td>\n",
       "    </tr>\n",
       "    <tr>\n",
       "      <th>80</th>\n",
       "      <td>16.0</td>\n",
       "      <td>-0.995768</td>\n",
       "    </tr>\n",
       "    <tr>\n",
       "      <th>81</th>\n",
       "      <td>16.2</td>\n",
       "      <td>-0.957659</td>\n",
       "    </tr>\n",
       "    <tr>\n",
       "      <th>82</th>\n",
       "      <td>16.4</td>\n",
       "      <td>-0.881372</td>\n",
       "    </tr>\n",
       "    <tr>\n",
       "      <th>83</th>\n",
       "      <td>16.6</td>\n",
       "      <td>-0.769948</td>\n",
       "    </tr>\n",
       "    <tr>\n",
       "      <th>84</th>\n",
       "      <td>16.8</td>\n",
       "      <td>-0.627828</td>\n",
       "    </tr>\n",
       "    <tr>\n",
       "      <th>85</th>\n",
       "      <td>17.0</td>\n",
       "      <td>-0.460679</td>\n",
       "    </tr>\n",
       "    <tr>\n",
       "      <th>86</th>\n",
       "      <td>17.2</td>\n",
       "      <td>-0.275163</td>\n",
       "    </tr>\n",
       "    <tr>\n",
       "      <th>87</th>\n",
       "      <td>17.4</td>\n",
       "      <td>-0.078678</td>\n",
       "    </tr>\n",
       "    <tr>\n",
       "      <th>88</th>\n",
       "      <td>17.6</td>\n",
       "      <td>0.120944</td>\n",
       "    </tr>\n",
       "    <tr>\n",
       "      <th>89</th>\n",
       "      <td>17.8</td>\n",
       "      <td>0.315744</td>\n",
       "    </tr>\n",
       "    <tr>\n",
       "      <th>90</th>\n",
       "      <td>18.0</td>\n",
       "      <td>0.497956</td>\n",
       "    </tr>\n",
       "    <tr>\n",
       "      <th>91</th>\n",
       "      <td>18.2</td>\n",
       "      <td>0.660317</td>\n",
       "    </tr>\n",
       "    <tr>\n",
       "      <th>92</th>\n",
       "      <td>18.4</td>\n",
       "      <td>0.796352</td>\n",
       "    </tr>\n",
       "    <tr>\n",
       "      <th>93</th>\n",
       "      <td>18.6</td>\n",
       "      <td>0.900640</td>\n",
       "    </tr>\n",
       "    <tr>\n",
       "      <th>94</th>\n",
       "      <td>18.8</td>\n",
       "      <td>0.969022</td>\n",
       "    </tr>\n",
       "    <tr>\n",
       "      <th>95</th>\n",
       "      <td>19.0</td>\n",
       "      <td>0.998772</td>\n",
       "    </tr>\n",
       "    <tr>\n",
       "      <th>96</th>\n",
       "      <td>19.2</td>\n",
       "      <td>0.988705</td>\n",
       "    </tr>\n",
       "    <tr>\n",
       "      <th>97</th>\n",
       "      <td>19.4</td>\n",
       "      <td>0.939220</td>\n",
       "    </tr>\n",
       "    <tr>\n",
       "      <th>98</th>\n",
       "      <td>19.6</td>\n",
       "      <td>0.852292</td>\n",
       "    </tr>\n",
       "    <tr>\n",
       "      <th>99</th>\n",
       "      <td>19.8</td>\n",
       "      <td>0.731386</td>\n",
       "    </tr>\n",
       "    <tr>\n",
       "      <th>100</th>\n",
       "      <td>20.0</td>\n",
       "      <td>0.581322</td>\n",
       "    </tr>\n",
       "    <tr>\n",
       "      <th>101</th>\n",
       "      <td>20.0</td>\n",
       "      <td>0.581322</td>\n",
       "    </tr>\n",
       "  </tbody>\n",
       "</table>\n",
       "<p>102 rows × 2 columns</p>\n",
       "</div>"
      ],
      "text/plain": [
       "        t      y(t)\n",
       "0     0.0  0.200000\n",
       "1     0.2  1.000000\n",
       "2     0.4  0.980067\n",
       "3     0.6  0.921061\n",
       "4     0.8  0.825336\n",
       "5     1.0  0.696707\n",
       "6     1.2  0.540302\n",
       "7     1.4  0.362358\n",
       "8     1.6  0.169967\n",
       "9     1.8 -0.029200\n",
       "10    2.0 -0.227202\n",
       "11    2.2 -0.416147\n",
       "12    2.4 -0.588501\n",
       "13    2.6 -0.737394\n",
       "14    2.8 -0.856889\n",
       "15    3.0 -0.942222\n",
       "16    3.2 -0.989992\n",
       "17    3.4 -0.998295\n",
       "18    3.6 -0.966798\n",
       "19    3.8 -0.896758\n",
       "20    4.0 -0.790968\n",
       "21    4.2 -0.653644\n",
       "22    4.4 -0.490261\n",
       "23    4.6 -0.307333\n",
       "24    4.8 -0.112153\n",
       "25    5.0  0.087499\n",
       "26    5.2  0.283662\n",
       "27    5.4  0.468517\n",
       "28    5.6  0.634693\n",
       "29    5.8  0.775566\n",
       "..    ...       ...\n",
       "72   14.4 -0.062792\n",
       "73   14.6 -0.259817\n",
       "74   14.8 -0.446485\n",
       "75   15.0 -0.615352\n",
       "76   15.2 -0.759688\n",
       "77   15.4 -0.873737\n",
       "78   15.6 -0.952953\n",
       "79   15.8 -0.994178\n",
       "80   16.0 -0.995768\n",
       "81   16.2 -0.957659\n",
       "82   16.4 -0.881372\n",
       "83   16.6 -0.769948\n",
       "84   16.8 -0.627828\n",
       "85   17.0 -0.460679\n",
       "86   17.2 -0.275163\n",
       "87   17.4 -0.078678\n",
       "88   17.6  0.120944\n",
       "89   17.8  0.315744\n",
       "90   18.0  0.497956\n",
       "91   18.2  0.660317\n",
       "92   18.4  0.796352\n",
       "93   18.6  0.900640\n",
       "94   18.8  0.969022\n",
       "95   19.0  0.998772\n",
       "96   19.2  0.988705\n",
       "97   19.4  0.939220\n",
       "98   19.6  0.852292\n",
       "99   19.8  0.731386\n",
       "100  20.0  0.581322\n",
       "101  20.0  0.581322\n",
       "\n",
       "[102 rows x 2 columns]"
      ]
     },
     "execution_count": 33,
     "metadata": {},
     "output_type": "execute_result"
    }
   ],
   "source": [
    "df"
   ]
  },
  {
   "cell_type": "code",
   "execution_count": 36,
   "metadata": {},
   "outputs": [],
   "source": [
    "n = [8, \n",
    "16, \n",
    "32, \n",
    "64, \n",
    "128, \n",
    "256, \n",
    "512, \n",
    "1024, \n",
    "2048, \n",
    "4096] "
   ]
  },
  {
   "cell_type": "code",
   "execution_count": 78,
   "metadata": {},
   "outputs": [],
   "source": [
    "c1 = [3.141853320742374, \n",
    "3.141634186673505, \n",
    "3.141598567141290, \n",
    "3.141593444476827, \n",
    "3.141592755917011, \n",
    "3.141592666605240, \n",
    "3.141592655231017, \n",
    "3.141592653795842, \n",
    "3.141592653615609, \n",
    "3.141592653593017]\n",
    "error1 = []\n",
    "for i in range(len(c1)):\n",
    "    error1.append(abs(3.141592653589790-c1[i]))"
   ]
  },
  {
   "cell_type": "code",
   "execution_count": 79,
   "metadata": {},
   "outputs": [
    {
     "data": {
      "text/plain": [
       "Text(0,0.5,'log(error)')"
      ]
     },
     "execution_count": 79,
     "metadata": {},
     "output_type": "execute_result"
    },
    {
     "data": {
      "image/png": "[encoded data removed]",
      "text/plain": [
       "<matplotlib.figure.Figure at 0x18150c6be0>"
      ]
     },
     "metadata": {},
     "output_type": "display_data"
    }
   ],
   "source": [
    "plt.loglog(n, error1)\n",
    "plt.title('Error for C1')\n",
    "plt.xlabel('log(n)')\n",
    "plt.ylabel('log(error)')"
   ]
  },
  {
   "cell_type": "code",
   "execution_count": 71,
   "metadata": {},
   "outputs": [],
   "source": [
    "c2 = [3.141602881806524, \n",
    "3.141593478636688, \n",
    "3.141592712667618, \n",
    "3.141592657551323, \n",
    "3.141592653846416, \n",
    "3.141592653606128, \n",
    "3.141592653590817, \n",
    "3.141592653589862, \n",
    "3.141592653589790]\n",
    "\n",
    "error2 = []\n",
    "for i in range(len(c2)):\n",
    "    error2.append(abs(3.141592653589790-c2[i]))"
   ]
  },
  {
   "cell_type": "code",
   "execution_count": 77,
   "metadata": {
    "scrolled": false
   },
   "outputs": [
    {
     "data": {
      "text/plain": [
       "Text(0,0.5,'log(error)')"
      ]
     },
     "execution_count": 77,
     "metadata": {},
     "output_type": "execute_result"
    },
    {
     "data": {
      "image/png": "[encoded data removed]",
      "text/plain": [
       "<matplotlib.figure.Figure at 0x181409bc88>"
      ]
     },
     "metadata": {},
     "output_type": "display_data"
    }
   ],
   "source": [
    "plt.loglog(n[1:], error2)\n",
    "plt.title('Error for C2')\n",
    "plt.xlabel('log(n)')\n",
    "plt.ylabel('log(error)')"
   ]
  },
  {
   "cell_type": "code",
   "execution_count": 49,
   "metadata": {},
   "outputs": [
    {
     "data": {
      "image/png": "[encoded data removed]",
      "text/latex": [
       "$$8$$"
      ],
      "text/plain": [
       "8"
      ]
     },
     "execution_count": 49,
     "metadata": {},
     "output_type": "execute_result"
    }
   ],
   "source": [
    "n[0]"
   ]
  },
  {
   "cell_type": "code",
   "execution_count": null,
   "metadata": {},
   "outputs": [],
   "source": []
  }
 ],
 "metadata": {
  "kernelspec": {
   "display_name": "Python 3",
   "language": "python",
   "name": "python3"
  },
  "language_info": {
   "codemirror_mode": {
    "name": "ipython",
    "version": 3
   },
   "file_extension": ".py",
   "mimetype": "text/x-python",
   "name": "python",
   "nbconvert_exporter": "python",
   "pygments_lexer": "ipython3",
   "version": "3.6.4"
  }
 },
 "nbformat": 4,
 "nbformat_minor": 2
}
