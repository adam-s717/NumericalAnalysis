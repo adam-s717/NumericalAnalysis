{
 "cells": [
  {
   "cell_type": "markdown",
   "metadata": {},
   "source": [
    "# Homework 6\n",
    "## Adam Sanchez \n",
    "### MATH 4650"
   ]
  },
  {
   "cell_type": "markdown",
   "metadata": {},
   "source": [
    "______________________________________________________________________________________________________________________"
   ]
  },
  {
   "cell_type": "markdown",
   "metadata": {},
   "source": [
    "### 1)"
   ]
  },
  {
   "cell_type": "markdown",
   "metadata": {},
   "source": [
    "First lets note $h = \\frac{b-a}{3} \\implies 3h = b-a \\implies 3h = b$ \n",
    "\n",
    "so \n",
    "$x_0 = 0$, $x_1=h$, $x_2= 3h$ \n",
    "\n",
    "Therefore we can use our interpolating polynomal $p(x)$ from our last homework. Where $$p(x) = f(0)\\ell_0(x) + f(h)\\ell_1(x)+f(3h)\\ell_2(x)$$\n",
    "\n",
    "Now inorder to calculate our integral lets just evualte the antiderivative of $p$ at our endpoint: \n",
    "\n",
    "$$P(x) = f(0)L_0(x) + f(h)L_1(x)+f(3h)L_2(x)$$ Where: \n",
    "$$L_0(x) =\\frac{1}{3h^2}\\left[\\frac{x^3}{3}-2hx^2+3h^2x\\right]$$\n",
    "$$L_1(x) = -\\frac{1}{2h^2}\\left[\\frac{x^3}{3}-\\frac{3hx^2}{2}\\right]$$\n",
    "$$L_2(x) = \\frac{1}{6h^2}\\left[\\frac{x^3}{3}-\\frac{hx^2}{2}\\right]$$\n",
    "\n",
    "So our scheme is: \n",
    "\n",
    "$$I = P(b) - P(a)$$\n",
    "\n",
    "To show that this works perfectly for qaudric lets explore $\\int_{a}^{b} x^2+4x+2 \\,dx$\n",
    "We know this should be $14.6666666$ so lets see if thats what we get: "
   ]
  },
  {
   "cell_type": "code",
   "execution_count": 60,
   "metadata": {},
   "outputs": [
    {
     "data": {
      "text/plain": [
       "14.666666666666668"
      ]
     },
     "execution_count": 60,
     "metadata": {},
     "output_type": "execute_result"
    }
   ],
   "source": [
    "a = 0 \n",
    "b = 2\n",
    "h = (b-a)/3\n",
    "\n",
    "f = lambda x:  x**2+4*x+2\n",
    "\n",
    "L1 = lambda x,h: (1/(3*h**2))*((x**3 / 3)-(2*h*x**2)+(3*h**2*x))\n",
    "L2 = lambda x,h: (-1/(2*h**2))*((x**3 / 3)-(3*h*x**2)/2)\n",
    "L3 = lambda x,h: (1/(6*h**2))*((x**3 / 3)-(h*x**2)/2)\n",
    "def P (f,x, h): \n",
    "    return f(0)*L1(x,h)+f(h)*L2(x,h)+f(3*h)*L3(x,h)\n",
    "\n",
    "#pa = f(0)*L1(a,h)+f(h)*L2(a,h)+f(3*h)*L3(a,h)\n",
    "#pb = f(0)*L1(b,h)+f(h)*L2(b,h)+f(3*h)*L3(b,h)\n",
    "#pb-pa\n",
    "\n",
    "P(f,b,h) - P(f,a,h)"
   ]
  },
  {
   "cell_type": "markdown",
   "metadata": {},
   "source": [
    "As we can see it works perfectly!"
   ]
  },
  {
   "cell_type": "markdown",
   "metadata": {},
   "source": [
    "______________________________________________________________________________________________________________________"
   ]
  },
  {
   "cell_type": "markdown",
   "metadata": {},
   "source": [
    "### 2)"
   ]
  },
  {
   "cell_type": "code",
   "execution_count": 101,
   "metadata": {},
   "outputs": [],
   "source": [
    "import numpy as np\n",
    "def myComposite (f,a,b,n):\n",
    "    if n <2: \n",
    "        n=2\n",
    "    n = int(n/2)\n",
    "    supp = (b-a)/(3*n)\n",
    "    nodes = np.arange(a, b+supp, step=supp)\n",
    "    L1 = lambda x,h: (1/(3*h**2))*((x**3 / 3)-(2*h*x**2)+(3*h**2*x))\n",
    "    L2 = lambda x,h: (-1/(2*h**2))*((x**3 / 3)-(3*h*x**2)/2)\n",
    "    L3 = lambda x,h: (1/(6*h**2))*((x**3 / 3)-(h*x**2)/2)\n",
    "    def P (f,x, h): \n",
    "        return f(0)*L1(x,h)+f(h)*L2(x,h)+f(3*h)*L3(x,h)\n",
    "    I = 0\n",
    "    for i in range((3*n)): \n",
    "        I += (P(f,nodes[i+1],supp)-P(f,nodes[i],supp))\n",
    "    return (I)\n",
    "\n",
    "def CompositeMidpoint( f, a, b, n ):\n",
    "    h   = (b-a)/(n+1)  # this is \\tilde{h} in the notes\n",
    "    nodes = np.arange( a+h/2, b, step=h)\n",
    "    return h*np.sum(f(nodes))\n",
    "\n",
    "def CompositeTrapezoidal( f, a, b, n):\n",
    "    nodes, h = np.linspace(a,b,n+1,retstep=True)\n",
    "    y  = f(nodes)\n",
    "    return h*( np.sum(y) - (y[0]+y[-1])/2) # y[-1] is last element; in Matlab, this is y(end)\n",
    "\n",
    "def CompositeSimpson( f, a, b, n):\n",
    "    n = int(n/2)*2  # Make it even\n",
    "    nodes, h = np.linspace(a,b,n+1,retstep=True)\n",
    "    y = f(nodes)\n",
    "    return h/3*( y[0] + 2*np.sum(y[2:n:2]) + 4*np.sum(y[1:n:2]) + y[-1] )\n"
   ]
  },
  {
   "cell_type": "code",
   "execution_count": 109,
   "metadata": {},
   "outputs": [
    {
     "name": "stderr",
     "output_type": "stream",
     "text": [
      "/anaconda3/lib/python3.6/site-packages/matplotlib/scale.py:111: RuntimeWarning: invalid value encountered in less_equal\n",
      "  out[a <= 0] = -1000\n"
     ]
    },
    {
     "data": {
      "image/png": "[encoded data removed]",
      "text/plain": [
       "<matplotlib.figure.Figure at 0x11a1b4080>"
      ]
     },
     "metadata": {},
     "output_type": "display_data"
    }
   ],
   "source": [
    "import matplotlib.pyplot as plt\n",
    "import matplotlib as mpl\n",
    "\n",
    "f = lambda x : np.exp(3*x)\n",
    "F = lambda x : np.exp(3*x)/3  # dF/dx = f\n",
    "a,b = -1,2\n",
    "I   = F(b) - F(a)\n",
    "\n",
    "nList = np.logspace(0,4,20).astype(int)\n",
    "errMidpoint = []\n",
    "errTrapezoidal = []\n",
    "errSimpson = []\n",
    "errMine = []\n",
    "for n in nList:\n",
    "    I_est = CompositeMidpoint( f, a, b, n)\n",
    "    errMidpoint.append( abs(I_est - I))\n",
    "\n",
    "    I_est = CompositeTrapezoidal( f, a, b, n)\n",
    "    errTrapezoidal.append( abs(I_est-I))\n",
    "\n",
    "    I_est = CompositeSimpson( f, a, b, n)\n",
    "    errSimpson.append( abs(I_est-I))\n",
    "    \n",
    "    I_est = myComposite( f, a, b, n)\n",
    "    errMine.append(abs(I_est-I))\n",
    "\n",
    "plt.figure(figsize=(10,8)) \n",
    "plt.loglog( nList, errMidpoint,'o',label='Composite midpoint');\n",
    "plt.loglog( nList, errTrapezoidal,'*',label='Composite trapezoidal');\n",
    "plt.loglog( nList, errSimpson,'*',label='Composite Simpson');\n",
    "plt.loglog( nList, errMine,'*',label='My Composite');\n",
    "plt.grid()\n",
    "plt.legend();"
   ]
  },
  {
   "cell_type": "markdown",
   "metadata": {},
   "source": [
    "______________________________________________________________________________________________________________________"
   ]
  },
  {
   "cell_type": "markdown",
   "metadata": {},
   "source": [
    "### 3)"
   ]
  },
  {
   "cell_type": "markdown",
   "metadata": {},
   "source": [
    "So I got kind of confused on how to include the n=4096 part. So I just did 10 rows. Im sure thats not correct but I hope I can get some credit. \n",
    "\n",
    "But that being said I do think there is an advantage using the composite trapezoidal rule in Romberg integration. With composite trapezoidal we know what the errors look ike so we can cancel them out using repeated Richerdson extrapolation and composite trapezoidal only involves even points so repeated Richerdson extrapolation has a nice form.  "
   ]
  },
  {
   "cell_type": "code",
   "execution_count": 110,
   "metadata": {},
   "outputs": [],
   "source": [
    "def RombergAppliedToMidpoint(f,a,b,nRows):\n",
    "    n = 2\n",
    "    table = []\n",
    "    for i in range(nRows):\n",
    "        I = CompositeMidpoint(f,a,b,n)\n",
    "        newRow = [I]\n",
    "        if i > 0:\n",
    "            oldRow = table[-1]\n",
    "        for j in range(i):\n",
    "            qj = 4**(j+1)\n",
    "            newRow.append(  (qj*newRow[-1] - oldRow[j])/( qj-1) )\n",
    "        table.append(newRow)\n",
    "        n *= 2\n",
    "    return table"
   ]
  },
  {
   "cell_type": "code",
   "execution_count": 117,
   "metadata": {},
   "outputs": [
    {
     "name": "stdout",
     "output_type": "stream",
     "text": [
      "2.20e+00  \n",
      "1.63e+00  2.91e+00  \n",
      "1.79e+00  2.92e+00  3.31e+00  \n",
      "1.25e-01  4.28e-01  6.52e-01  7.14e-01  \n",
      "2.69e-02  5.96e-03  2.22e-02  3.29e-02  3.58e-02  \n",
      "6.58e-03  1.86e-04  1.99e-04  1.50e-04  2.79e-04  3.14e-04  \n",
      "1.65e-03  5.39e-06  1.81e-05  1.52e-05  1.59e-05  1.62e-05  1.63e-05  \n",
      "4.14e-04  2.47e-06  2.28e-06  2.02e-06  1.97e-06  1.96e-06  1.95e-06  1.95e-06  \n",
      "1.04e-04  4.24e-07  2.88e-07  2.56e-07  2.49e-07  2.48e-07  2.47e-07  2.47e-07  2.47e-07  \n",
      "2.60e-05  6.04e-08  3.61e-08  3.21e-08  3.13e-08  3.11e-08  3.10e-08  3.10e-08  3.10e-08  3.10e-08  \n"
     ]
    }
   ],
   "source": [
    "f = lambda x: np.cos(x)\n",
    "F = lambda x : np.sin(x)\n",
    "\n",
    "a = 0\n",
    "b = 50\n",
    "\n",
    "I   = F(b) - F(a)\n",
    "\n",
    "table = RombergAppliedToMidpoint(f,a,b, 10)\n",
    "for row in table:\n",
    "    for entry in row:\n",
    "        print(\"{:.2e}  \".format(abs(entry-I)),end=\"\") # suppress new line\n",
    "    print(\"\") # new line"
   ]
  },
  {
   "cell_type": "markdown",
   "metadata": {},
   "source": [
    "______________________________________________________________________________________________________________________"
   ]
  },
  {
   "cell_type": "markdown",
   "metadata": {},
   "source": [
    "### 4)"
   ]
  },
  {
   "cell_type": "markdown",
   "metadata": {},
   "source": [
    "a) \n",
    "\n",
    "So I know we want to get the sum into the same for as the composite trapezoidal rule but I cannot figure out how to do it. "
   ]
  },
  {
   "cell_type": "markdown",
   "metadata": {},
   "source": [
    "b)"
   ]
  },
  {
   "cell_type": "code",
   "execution_count": 123,
   "metadata": {},
   "outputs": [
    {
     "name": "stderr",
     "output_type": "stream",
     "text": [
      "/anaconda3/lib/python3.6/site-packages/matplotlib/scale.py:111: RuntimeWarning: invalid value encountered in less_equal\n",
      "  out[a <= 0] = -1000\n"
     ]
    },
    {
     "data": {
      "image/png": "[encoded data removed]",
      "text/plain": [
       "<matplotlib.figure.Figure at 0x11d4f51d0>"
      ]
     },
     "metadata": {},
     "output_type": "display_data"
    }
   ],
   "source": [
    "f = lambda x : np.exp(-x*1j)/(1+np.cos(x)/2)\n",
    "a,b = -np.pi,np.pi\n",
    "I   = (2 - (4/np.sqrt(3)))*2*np.pi\n",
    "\n",
    "nList = np.logspace(0,4,20).astype(int)\n",
    "errMidpoint = []\n",
    "errTrapezoidal = []\n",
    "errSimpson = []\n",
    "for n in nList:\n",
    "    I_est = CompositeMidpoint( f, a, b, n)\n",
    "    errMidpoint.append( abs(np.real(I_est) - I))\n",
    "\n",
    "    I_est = CompositeTrapezoidal( f, a, b, n)\n",
    "    errTrapezoidal.append( abs(np.real(I_est) - I))\n",
    "\n",
    "    I_est = CompositeSimpson( f, a, b, n)\n",
    "    errSimpson.append( abs(np.real(I_est) - I))\n",
    "plt.figure(figsize=(10,8)) \n",
    "plt.loglog( nList, errMidpoint,'o',label='Composite midpoint');\n",
    "plt.loglog( nList, errTrapezoidal,'*',label='Composite trapezoidal');\n",
    "plt.loglog( nList, errSimpson,'*',label='Composite Simpson');\n",
    "plt.grid()\n",
    "plt.legend();"
   ]
  },
  {
   "cell_type": "markdown",
   "metadata": {},
   "source": [
    "c) \n",
    "\n",
    "It looks like there is very little advantage using a higher order rule, like Simpsons vs. Trapeoidal. I think this might be because f probably oscillates alot, and we know that Simpsons rule can struggle with highly oscillating functions. "
   ]
  }
 ],
 "metadata": {
  "kernelspec": {
   "display_name": "Python 3",
   "language": "python",
   "name": "python3"
  },
  "language_info": {
   "codemirror_mode": {
    "name": "ipython",
    "version": 3
   },
   "file_extension": ".py",
   "mimetype": "text/x-python",
   "name": "python",
   "nbconvert_exporter": "python",
   "pygments_lexer": "ipython3",
   "version": "3.6.4"
  }
 },
 "nbformat": 4,
 "nbformat_minor": 2
}
