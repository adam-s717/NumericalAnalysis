{
 "cells": [
  {
   "cell_type": "markdown",
   "metadata": {},
   "source": [
    "# Homework 1\n",
    "## Adam Sanchez \n",
    "### MATH 4650"
   ]
  },
  {
   "cell_type": "code",
   "execution_count": 1,
   "metadata": {},
   "outputs": [],
   "source": [
    "import matplotlib\n",
    "matplotlib.rcParams['text.usetex'] = True\n",
    "import matplotlib.pyplot as plt\n",
    "%matplotlib inline\n",
    "import numpy as np\n",
    "import sympy as sym\n",
    "from sympy import init_printing\n",
    "init_printing()\n",
    "import math"
   ]
  },
  {
   "cell_type": "markdown",
   "metadata": {},
   "source": [
    "### 1"
   ]
  },
  {
   "cell_type": "markdown",
   "metadata": {},
   "source": [
    "###### a) \n",
    "\n",
    "$e^x \\approx 1+x+\\frac{x^2}{2}+\\frac{x^3}{6}$\n",
    "\n",
    "If $e^x$ is $\\mathcal{O}(x)$ then we would expect $$\\lim_{x\\to\\infty} \\left|\\frac{1+x+\\frac{x^2}{2}+\\frac{x^3}{6}}{x}\\right| < \\infty$$ But $$\\lim_{x\\to\\infty} \\left|\\frac{1+x+\\frac{x^2}{2}+\\frac{x^3}{6}}{x}\\right| = \\lim_{x\\to\\infty} \\left|\\frac{1}{x}+1+\\frac{x}{2}+\\frac{x^2}{6}\\right| = \\infty$$\n",
    "\n",
    "Thus $e^X$ is not $\\mathcal{O}(x)$\n",
    "\n",
    "###### b)\n",
    "\n",
    "Let $f = x\\sin\\sqrt{x}$ and $g = x^{\\frac{3}{2}}$ \n",
    "\n",
    "If $f = \\theta(g)$ then $1)$ $f = \\mathcal{O}(g)$ and $2)$ $g = \\mathcal{O}(f)$\n",
    "\n",
    "1) $$\\lim_{x\\to 0} \\left|\\frac{x\\sin\\sqrt{x}}{x^{\\frac{3}{2}}}\\right| \n",
    "    \\approx \n",
    "    \\lim_{x\\to 0} \\left|\\frac{x^{\\frac{3}{2}} -\\frac{x^{\\frac{5}{2}}}{6}+\\frac{x^{\\frac{7}{2}}}{120}}{x^{\\frac{3}{2}}}\\right| = 1$$ so $f = \\mathcal{O}(g)$\n",
    "    \n",
    "2) $$\\lim_{x\\to 0} \\left|\\frac{x^{\\frac{3}{2}}}{x\\sin\\sqrt{x}}\\right| \\approx \\lim_{x\\to 0} \\left|\\frac{x^{\\frac{3}{2}}}{x^{\\frac{3}{2}} -\\frac{x^{\\frac{5}{2}}}{6}+\\frac{x^{\\frac{7}{2}}}{120}}\\right| =1$$ so $g = \\mathcal{O}(f)$\n",
    "\n",
    "Thus $f = \\theta(g)$\n",
    "\n",
    "###### c)\n",
    "\n",
    "$$\\lim_{t\\to \\infty} \\left|\\frac{e^{-t}}{\\frac{1}{t^2}}\\right| = \\lim_{t\\to \\infty} \\left|\\frac{t^2}{e^t}\\right| = 0$$\n",
    "\n",
    "Thus $e^{-t} = o\\left(\\frac{1}{t^2}\\right)$\n",
    "\n",
    "###### d)\n",
    "This goes to 0 so its correct \n",
    "\n",
    "###### e)\n",
    "\n",
    "$$\\lim_{x\\to 0} \\left|\\frac{\\frac{-x}{\\log{x}}}{x}\\right| = \\lim_{x\\to 0} \\left|\\frac{-x}{x\\log{x}}\\right| = 0$$\n",
    "\n",
    "So $\\frac{-x}{\\log{x}} = o(x)$\n",
    "\n",
    "$$\\lim_{x\\to 0} \\left|\\frac{\\frac{-x}{\\log{x}}}{x^2}\\right| = \\lim_{x\\to 0} \\left|\\frac{-x}{x^2\\log{x}}\\right| = \\infty$$\n",
    "\n",
    "So $\\frac{-x}{\\log{x}} \\neq \\mathcal{O}(x^2)$"
   ]
  },
  {
   "cell_type": "markdown",
   "metadata": {},
   "source": [
    "### 2"
   ]
  },
  {
   "cell_type": "code",
   "execution_count": 2,
   "metadata": {},
   "outputs": [],
   "source": [
    "def bisection( f, interval, tol=1e-9, totalIters = 100):\n",
    "    a,b = interval \n",
    "    fa,fb = f(a),f(b)\n",
    "    oppositeSign = lambda fa,fb :  np.sign(fa)*np.sign(fb) < 0\n",
    "    errorBound = lambda a,b : (b-a)/2\n",
    "    midpoint = lambda a,b : a + (b-a)/2\n",
    "    if not oppositeSign(fa,fb):\n",
    "        raise ValueError('Function does not change sign on the interval. May not contain root on Interval')\n",
    "  \n",
    "\n",
    "    p   = midpoint(a,b)\n",
    "    fp  = f(p)\n",
    "    history = [p]\n",
    "    f_history = [fp]\n",
    "    iteration = 0\n",
    "\n",
    "    while errorBound( fa, fb) > tol and iteration <= totalIters :\n",
    "        iteration += 1\n",
    "\n",
    "        if oppositeSign( fa, fp ):\n",
    "              b,fb = p,fp\n",
    "        else:\n",
    "              a,fa = p,fp\n",
    "\n",
    "        p   = midpoint(a,b)\n",
    "        fp  = f(p)\n",
    "        history.append(p)\n",
    "        f_history.append(fp)\n",
    "    return p, history, f_history"
   ]
  },
  {
   "cell_type": "markdown",
   "metadata": {},
   "source": [
    "### 3"
   ]
  },
  {
   "cell_type": "markdown",
   "metadata": {},
   "source": [
    "###### a)  \n",
    "\n",
    "Let $f = 2x - \\sin{x}-1$. So $f' = 2 - \\cos{x}$. \n",
    "\n",
    "Consider the interval $[.5,1.5]$\n",
    "\n",
    "$f'(.5) \\approx 1.122$ and $f'(1.5) \\approx 1.929$ so $f$ is continious on the interval\n",
    "\n",
    "$f(.5) \\approx -0.479$ and $f(1.5) \\approx 1.002$ so by the IVT there exist at least one $r\\in[.5,1.5]$ such that $f(r) = 0$\n",
    "\n",
    "###### b)\n",
    "\n",
    "Since $f$ is increasing on $(-\\infty,\\infty)$ we know $f$ crosses the $x$ axis only once, so there must be only one real root. \n",
    "\n",
    "###### c)"
   ]
  },
  {
   "cell_type": "code",
   "execution_count": 3,
   "metadata": {},
   "outputs": [
    {
     "name": "stdout",
     "output_type": "stream",
     "text": [
      "Iter  0, p=1.0000000000000000, |f(p)| = 1.59e-1\n",
      "Iter  1, p=0.7500000000000000, |f(p)| = 1.82e-1\n",
      "Iter  2, p=0.8750000000000000, |f(p)| = 1.75e-2\n",
      "Iter  3, p=0.9375000000000000, |f(p)| = 6.89e-2\n",
      "Iter  4, p=0.9062500000000000, |f(p)| = 2.53e-2\n",
      "Iter  5, p=0.8906250000000000, |f(p)| = 3.79e-3\n",
      "Iter  6, p=0.8828125000000000, |f(p)| = 6.90e-3\n",
      "Iter  7, p=0.8867187500000000, |f(p)| = 1.56e-3\n",
      "Iter  8, p=0.8886718750000000, |f(p)| = 1.11e-3\n",
      "Iter  9, p=0.8876953125000000, |f(p)| = 2.28e-4\n",
      "Iter 10, p=0.8881835937500000, |f(p)| = 4.40e-4\n",
      "Iter 11, p=0.8879394531250000, |f(p)| = 1.06e-4\n",
      "Iter 12, p=0.8878173828125000, |f(p)| = 6.14e-5\n",
      "Iter 13, p=0.8878784179687500, |f(p)| = 2.22e-5\n",
      "Iter 14, p=0.8878479003906250, |f(p)| = 1.96e-5\n",
      "Iter 15, p=0.8878631591796875, |f(p)| = 1.30e-6\n",
      "Iter 16, p=0.8878555297851562, |f(p)| = 9.15e-6\n",
      "Iter 17, p=0.8878593444824219, |f(p)| = 3.92e-6\n",
      "Iter 18, p=0.8878612518310547, |f(p)| = 1.31e-6\n",
      "Iter 19, p=0.8878622055053711, |f(p)| = 8.30e-9\n",
      "Iter 20, p=0.8878626823425293, |f(p)| = 6.44e-7\n",
      "Iter 21, p=0.8878624439239502, |f(p)| = 3.18e-7\n",
      "Iter 22, p=0.8878623247146606, |f(p)| = 1.55e-7\n",
      "Iter 23, p=0.8878622651100159, |f(p)| = 7.33e-8\n",
      "Iter 24, p=0.8878622353076935, |f(p)| = 3.25e-8\n",
      "Iter 25, p=0.8878622204065323, |f(p)| = 1.21e-8\n",
      "Iter 26, p=0.8878622129559517, |f(p)| = 1.90e-9\n",
      "Iter 27, p=0.8878622092306614, |f(p)| = 3.20e-9\n",
      "Iter 28, p=0.8878622110933065, |f(p)| = 6.54e-10\n",
      "Iter 29, p=0.8878622120246291, |f(p)| = 6.21e-10\n",
      "Iter 30, p=0.8878622115589678, |f(p)| = 1.63e-11\n"
     ]
    }
   ],
   "source": [
    "f = lambda x : 2*x - sym.sin(x) - 1\n",
    "p, history, f_history = bisection(f, (.5,1.5), tol = 1e-9 )\n",
    "for i,(p,fp) in enumerate( zip(history,f_history) ):\n",
    "    print( \"Iter {:2d}, p={:.16f}, |f(p)| = {:.2e}\".format(i,p,abs(fp)))"
   ]
  },
  {
   "cell_type": "markdown",
   "metadata": {},
   "source": [
    "###### d) "
   ]
  },
  {
   "cell_type": "code",
   "execution_count": 4,
   "metadata": {},
   "outputs": [
    {
     "name": "stdout",
     "output_type": "stream",
     "text": [
      "Iter  0, p=5.0099999999999998, |f(p)| = 1.00e-18.\n"
     ]
    }
   ],
   "source": [
    "fi = lambda x : (x-5)**9\n",
    "p, history, f_history = bisection(fi, (4.82,5.2), tol = 1e-4 )\n",
    "\n",
    "for i,(p,fp) in enumerate( zip(history,f_history) ):\n",
    "    print( \"Iter {:2d}, p={:.16f}, |f(p)| = {:.2e}.\".format(i,p,abs(fp)))"
   ]
  },
  {
   "cell_type": "code",
   "execution_count": 5,
   "metadata": {},
   "outputs": [
    {
     "name": "stdout",
     "output_type": "stream",
     "text": [
      "Iter  0, p=5.0099999999999998, |f(p)| = 9.31e-10.\n"
     ]
    }
   ],
   "source": [
    "seq1 = (5,5,5,5,5,5,5,5,5)\n",
    "coeff = np.poly(seq1)\n",
    "poly = np.poly1d(coeff)\n",
    "p, history, f_history = bisection(poly, (4.82,5.2), tol = 1e-4 )\n",
    "for i,(p,fp) in enumerate( zip(history,f_history) ):\n",
    "    print( \"Iter {:2d}, p={:.16f}, |f(p)| = {:.2e}.\".format(i,p,abs(fp)))"
   ]
  },
  {
   "cell_type": "markdown",
   "metadata": {},
   "source": [
    "Im honestly not sure what we are supposed to graph here. The function doesnt iterate becasue with bounds we were given to run, the errorbound is less than our tollerance level so we just end up using the midpoint as our guess for p because it is suffecently close to the true value. "
   ]
  },
  {
   "cell_type": "markdown",
   "metadata": {},
   "source": [
    "### 4"
   ]
  },
  {
   "cell_type": "markdown",
   "metadata": {},
   "source": [
    "###### a)\n",
    "\n",
    "Note that $g_{\\mu}(x)$ has a critical point at $x=.5$ for all $\\mu\\in \\mathbb{R}$. Becasue its the shape of the tent, we know $g_{\\mu}(x)$ is increasing from $(-\\infty,.5)$ and decreasing from $(.5,\\infty)$. \n",
    "\n",
    "When $\\mu = 0$, $g_0(0)=0$ for all $x \\in [0,1]$. So $g_{\\mu}(x) \\in [0,1]$. \n",
    "\n",
    "When $\\mu = 2$, $g_2(0)=0$, $g_2(.5)=1$, and $g_2(1)=0$. So $g_{\\mu}(x) \\in [0,1]$ \n",
    "\n",
    "Thus we can see that $$g_{\\mu}(x) \\in [0,1]$$ for $\\mu \\in [0,2]$\n",
    "\n",
    "\n",
    "\n",
    "###### b)\n",
    "\n",
    "From a) we know $g_{\\mu}(x) \\in [0,1]$ for all $\\mu \\in [0,1)$\n",
    "\n",
    "Note $g'_{\\mu}(x) = \\frac{-\\mu\\left(x-\\frac{1}{2}\\right)}{\\left|x-\\frac{1}{2}\\right|}$ So for $x \\in [0,.5)$, $g'_{\\mu}(x) = \\mu$ and for $x \\in (.5,1)$, $g'_{\\mu}(x) = -\\mu$ thus $\\left|g'_{\\mu}(x)\\right| = \\mu$\n",
    "\n",
    "Becasue we know $\\mu < 1$ we have a contraction. So we can use the Contraction Mapping Theorem to say that there exists a unique fixed point inside $[0,1]$\n",
    "\n",
    "\n",
    "\n",
    "###### c)\n",
    "\n",
    "When $\\mu = 1$ the fixed points of $g_{\\mu}(x)$ are $x=0$ and $x=.5$\n",
    "\n",
    "\n",
    "\n",
    "\n",
    "###### d)\n",
    "\n",
    "We know in order for there to be two fixed points $\\left|g'_{\\mu}(x)\\right| > 1$ becasue the slope of $y=x$ is $1$. Thus $g_{\\mu}(x)$ will hit $y=x$ beacuse it peaks and the falls. Further, becasue we know $\\left|g'_{\\mu}(x)\\right| = \\mu$ and $\\mu \\in (1,2]$ there are $2$ fixed points. The Contraction Mapping Theorem  would not apply here. \n",
    "\n",
    "###### e)"
   ]
  },
  {
   "cell_type": "code",
   "execution_count": 7,
   "metadata": {},
   "outputs": [
    {
     "name": "stdout",
     "output_type": "stream",
     "text": [
      "Iter    0, x is  0.5235987756\n",
      "Iter    1, x is  0.5240413468\n",
      "Iter    2, x is  0.5235545185\n",
      "Iter    3, x is  0.5240900297\n",
      "Iter    4, x is  0.5235009674\n",
      "Iter    5, x is  0.5241489359\n",
      "Iter    6, x is  0.5234361705\n",
      "Iter    7, x is  0.5242202125\n",
      "Iter    8, x is  0.5233577663\n",
      "Iter    9, x is  0.5243064571\n",
      "Iter   10, x is  0.5232628972\n"
     ]
    }
   ],
   "source": [
    "mu = 1.1\n",
    "g  = lambda x : mu*( -abs(x-.5) + .5 )\n",
    "x  = (math.pi)/6\n",
    "N   = 11\n",
    "X   = np.zeros(N)\n",
    "for i in range(N):\n",
    "    X[i] = x\n",
    "  \n",
    "    print(\"Iter {:4d}, x is  {:12.10f}\".format(i,x,))\n",
    "    x   = g(x)\n",
    "  "
   ]
  },
  {
   "cell_type": "code",
   "execution_count": 8,
   "metadata": {},
   "outputs": [
    {
     "name": "stdout",
     "output_type": "stream",
     "text": [
      "Iter    0, x is  0.5235987756\n",
      "Iter    1, x is  0.7146018366\n",
      "Iter    2, x is  0.4280972451\n",
      "Iter    3, x is  0.6421458676\n",
      "Iter    4, x is  0.5367811985\n",
      "Iter    5, x is  0.6948282022\n",
      "Iter    6, x is  0.4577576967\n",
      "Iter    7, x is  0.6866365451\n",
      "Iter    8, x is  0.4700451824\n",
      "Iter    9, x is  0.7050677736\n",
      "Iter   10, x is  0.4423983395\n"
     ]
    }
   ],
   "source": [
    "mu = 1.5\n",
    "g  = lambda x : mu*( -abs(x-.5) + .5 )\n",
    "x2  = (math.pi)/6\n",
    "N   = 11\n",
    "X2   = np.zeros(N)\n",
    "for i in range(N):\n",
    "    X2[i] = x2\n",
    "  \n",
    "    print(\"Iter {:4d}, x is  {:12.10f}\".format(i,x2,))\n",
    "    x2   = g(x2)"
   ]
  },
  {
   "cell_type": "markdown",
   "metadata": {},
   "source": [
    "It looks like as mu grows its harder and harder for the algorthim to find the fixed point. Which makes sense. "
   ]
  },
  {
   "cell_type": "code",
   "execution_count": 13,
   "metadata": {},
   "outputs": [
    {
     "data": {
      "text/plain": [
       "Text(0.5,1,'Mu = 1.1')"
      ]
     },
     "execution_count": 13,
     "metadata": {},
     "output_type": "execute_result"
    },
    {
     "data": {
      "image/png": "[encoded data removed]",
      "text/plain": [
       "<matplotlib.figure.Figure at 0x1091f0470>"
      ]
     },
     "metadata": {},
     "output_type": "display_data"
    }
   ],
   "source": [
    "mu = 1.1\n",
    "g  = lambda x : mu*( -abs(x-.5) + .5 )\n",
    "x  = (math.pi)/6\n",
    "N   = 1000000\n",
    "X   = np.zeros(N)\n",
    "for i in range(N):\n",
    "    X[i] = x\n",
    "    x   = g(x)\n",
    "    \n",
    "hist1 = plt.hist(X2, color='orange', edgecolor='black', alpha=0.5)\n",
    "plt.title(\"Mu = 1.1\")"
   ]
  },
  {
   "cell_type": "code",
   "execution_count": 10,
   "metadata": {},
   "outputs": [
    {
     "data": {
      "text/plain": [
       "Text(0.5,1,'Mu = 1.5')"
      ]
     },
     "execution_count": 10,
     "metadata": {},
     "output_type": "execute_result"
    },
    {
     "data": {
      "image/png": "[encoded data removed]",
      "text/plain": [
       "<matplotlib.figure.Figure at 0x1091f0860>"
      ]
     },
     "metadata": {},
     "output_type": "display_data"
    }
   ],
   "source": [
    "mu = 1.5\n",
    "g  = lambda x : mu*( -abs(x-.5) + .5 )\n",
    "x2  = (math.pi)/6\n",
    "N   = 1000000\n",
    "X2   = np.zeros(N)\n",
    "for i in range(N):\n",
    "    X2[i] = x2\n",
    "  \n",
    "    x2   = g(x2)\n",
    "    \n",
    "    \n",
    "hist2 = plt.hist(X2, color='blue', edgecolor='black', alpha=0.5)\n",
    "plt.title(\"Mu = 1.5\")"
   ]
  },
  {
   "cell_type": "code",
   "execution_count": null,
   "metadata": {},
   "outputs": [],
   "source": []
  }
 ],
 "metadata": {
  "kernelspec": {
   "display_name": "Python 3",
   "language": "python",
   "name": "python3"
  },
  "language_info": {
   "codemirror_mode": {
    "name": "ipython",
    "version": 3
   },
   "file_extension": ".py",
   "mimetype": "text/x-python",
   "name": "python",
   "nbconvert_exporter": "python",
   "pygments_lexer": "ipython3",
   "version": "3.6.4"
  }
 },
 "nbformat": 4,
 "nbformat_minor": 2
}
