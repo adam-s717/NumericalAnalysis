{
 "cells": [
  {
   "cell_type": "code",
   "execution_count": 2,
   "metadata": {},
   "outputs": [],
   "source": [
    "import numpy as np\n",
    "from fractions import Fraction"
   ]
  },
  {
   "cell_type": "markdown",
   "metadata": {},
   "source": [
    "# Homework 1\n",
    "## Adam Sanchez \n",
    "### MATH 4650"
   ]
  },
  {
   "cell_type": "markdown",
   "metadata": {},
   "source": [
    "### 1"
   ]
  },
  {
   "cell_type": "markdown",
   "metadata": {},
   "source": [
    "###### a) \n",
    "\n",
    "Taylor expansion: \n",
    "$$\\frac{Af(x)+B\\left(f(x)+hf'(x)+h^2/2f''(x)+\\mathcal{O}(h^3)\\right) + C\\left(f(x)+3hf'(x)+(3h)^2/2f''(x)+\\mathcal{O}(h^3)\\right)}{h}$$\n",
    "$$ = \\frac{(A+B+C)f(x)+(B+3C)hf'(x)+\\left(\\frac{B}{2}+\\frac{9C}{2}\\right)h^2f''(x)+\\mathcal{O}(h^3)}{h}$$\n",
    "\n",
    "So we want: $A+B+C=0$, $B+3C = 1$, and $B+9C=0$:"
   ]
  },
  {
   "cell_type": "code",
   "execution_count": 6,
   "metadata": {},
   "outputs": [
    {
     "name": "stdout",
     "output_type": "stream",
     "text": [
      "A = -4/3\n",
      "B = 3/2\n",
      "C = -1/6\n"
     ]
    }
   ],
   "source": [
    "Coefs = np.array([[1, 1, 1], [0, 1, 3], [0, 1, 9]])\n",
    "Sols = np.array([0, 1, 0])\n",
    "X = np.linalg.solve(Coefs,Sols)\n",
    "\n",
    "print('A =', Fraction(X[0]).limit_denominator(10))\n",
    "print('B =', Fraction(X[1]).limit_denominator(10))\n",
    "print('C =', Fraction(X[2]).limit_denominator(10))"
   ]
  },
  {
   "cell_type": "markdown",
   "metadata": {},
   "source": [
    "###### b)\n",
    "\n",
    "$$p(x) = f(x)\\frac{(x − (x+h))(x − (x+3h))}{(x − (x+h))(x − (x+3h))}+f(x+h)\\frac{(x − x)(x − (x+h))}{((x+h) − x)((x+h) − (x+3h))}+f(x+3h)\\frac{(x − x)(x − (x+h))}{((x+3h) − x)((x+3h) − (x+h))}$$\n",
    "\n",
    "So $p'(x)$ is (note, I did most of the hard work on scratch paper and dint want to type it into latex, its Saturday - thanks for understanding!): \n",
    "\n",
    "\n",
    "$$p'(x) = f(x)\\frac{-h+3h}{3h^2}+f(x+h)\\frac{-3h}{-2h^2}+f(x+3h)\\frac{-h}{6h^2}$$\n",
    "$$p'(x) = f(x)\\frac{-4h}{3h^2}+f(x+h)\\frac{-3h}{-2h^2}+f(x+3h)\\frac{-h}{6h^2}$$\n",
    "$$p'(x) = f(x)\\frac{-4}{3h}+f(x+h)\\frac{-3}{-2h}+f(x+3h)\\frac{-1}{6h}$$\n",
    "$$p'(x) = \\frac{\\frac{-4}{3}f(x)+\\frac{3}{2}f(x+h)+\\frac{-1}{6}f(x+3h)}{h}$$\n",
    "\n",
    "Thus: \n",
    "\n",
    "$$A = -\\frac{4}{3}$$ $$B=\\frac{3}{2}$$ $$C=-\\frac{1}{6}$$\n",
    "\n",
    "\n",
    "\n",
    "###### c)\n",
    "\n",
    "Yes I believe that they are unique, however if we only want O(h) then I dont think they would be unique anymore. \n",
    "\n",
    "\n",
    "\n",
    "###### d)\n",
    "Taylor expansion: \n",
    "$$ = \\frac{(A+B+C)f(x)+(B+3C)hf'(x)+\\left(\\frac{B}{2}+\\frac{9C}{2}\\right)h^2f''(x)+\\mathcal{O}(h^3)}{h^2}$$\n",
    "So we want: $A+B+C=0$, $B+3C = 0$, and $B+9C=1$:"
   ]
  },
  {
   "cell_type": "code",
   "execution_count": 7,
   "metadata": {},
   "outputs": [
    {
     "name": "stdout",
     "output_type": "stream",
     "text": [
      "A = 1/3\n",
      "B = -1/2\n",
      "C = 1/6\n"
     ]
    }
   ],
   "source": [
    "Coefs = np.array([[1, 1, 1], [0, 1, 3], [0, 1, 9]])\n",
    "Sols = np.array([0, 0, 1])\n",
    "X = np.linalg.solve(Coefs,Sols)\n",
    "\n",
    "print('A =', Fraction(X[0]).limit_denominator(10))\n",
    "print('B =', Fraction(X[1]).limit_denominator(10))\n",
    "print('C =', Fraction(X[2]).limit_denominator(10))"
   ]
  },
  {
   "cell_type": "markdown",
   "metadata": {},
   "source": [
    "###### e) \n",
    "$$p''(x) = f(x)\\frac{1}{3h^2}+f(x+h)\\frac{1}{-2h^2}+f(x+3h)\\frac{1}{6h^2}$$\n",
    "$$p''(x) = \\frac{\\frac{1}{3}f(x)-\\frac{1}{2}f(x+h)+\\frac{1}{6}f(x+3h)}{h^2}$$\n",
    "\n",
    "Thus: \n",
    "\n",
    "$$A = \\frac{1}{3}$$ $$B=-\\frac{1}{2}$$ $$C=\\frac{1}{6}$$"
   ]
  },
  {
   "cell_type": "markdown",
   "metadata": {},
   "source": [
    "### 2"
   ]
  },
  {
   "cell_type": "markdown",
   "metadata": {},
   "source": [
    "If we take $h=10^{-4}$ and use the 5-pt centered diff. method we should get what we want: "
   ]
  },
  {
   "cell_type": "code",
   "execution_count": 22,
   "metadata": {},
   "outputs": [
    {
     "name": "stdout",
     "output_type": "stream",
     "text": [
      "The Absolute Error is: 2.7196023211217835e-12\n"
     ]
    }
   ],
   "source": [
    "approx = lambda x, h: ((1/12)*np.exp(3*(x-(2*h))) - (8/12)*np.exp(3*(x-h)) + (8/12)*np.exp(3*(x+h)) - (1/12)*np.exp(3*(x+(2*h))))/h\n",
    "true = lambda x: 3*np.exp(3*x)\n",
    "\n",
    "x = 0.3 \n",
    "h = 10**(-4)\n",
    "print('The Absolute Error is:', np.abs(approx(x,h)-true(x)))"
   ]
  },
  {
   "cell_type": "markdown",
   "metadata": {},
   "source": [
    "### 3"
   ]
  },
  {
   "cell_type": "markdown",
   "metadata": {},
   "source": [
    "We want to minimize $\\frac{2\\epsilon}{h}+2Mh^2$ with respect to h. \n",
    "\n",
    "$$\\frac{\\partial }{\\partial h}\\frac{2\\epsilon}{h}+2Mh^2 = -\\frac{2\\epsilon}{h^2}+2Mh$$\n",
    "\n",
    "Now, we set the partial equal to 0 and solve for h: \n",
    "\n",
    "\\begin{eqnarray*}\n",
    "-\\frac{2\\epsilon}{h^2}+2Mh &=& 0\\\\\n",
    "-2\\epsilon+2Mh^3 &=& 0\\\\\n",
    "h^3 &=& \\frac{\\epsilon}{M}\\\\\n",
    "h &=& \\left(\\frac{\\epsilon}{M}\\right)^{\\frac{1}{3}}\n",
    "\\end{eqnarray*}\n",
    "\n",
    "So our error bound is: \n",
    "\n",
    "\\begin{eqnarray*}\n",
    "|\\gamma - f'(x)| &\\leq& \\frac{2\\epsilon}{\\left(\\frac{\\epsilon}{M}\\right)^{\\frac{1}{3}}}+M\\left(\\left(\\frac{\\epsilon}{M}\\right)^{\\frac{1}{3}}\\right)^2\\\\\n",
    "&=& 2m\\left(\\frac{\\epsilon}{M}\\right)^{\\frac{2}{3}} + M\\left(\\frac{\\epsilon}{M}\\right)^{\\frac{3}{2}}\\\\\n",
    "&=& M\\left(\\left(\\frac{\\epsilon}{M}\\right)^{\\frac{2}{3}}+2\\left(\\frac{\\epsilon}{M}\\right)^{\\frac{3}{2}}\\right)\n",
    "\\end{eqnarray*}"
   ]
  },
  {
   "cell_type": "markdown",
   "metadata": {},
   "source": []
  },
  {
   "cell_type": "markdown",
   "metadata": {},
   "source": [
    "### 4"
   ]
  },
  {
   "cell_type": "markdown",
   "metadata": {},
   "source": [
    "###### a)\n",
    "\n",
    "Because f is a degree n or less polynomial we know it willl have at most n non-zero derivatives. So $f^{(n+1)}=0$. Thus the truncation error would be zero. \n",
    "\n",
    "###### b)\n",
    "\n",
    "Since we have a quadric we know $f \\in C^2$ so our error is a constant times h. So we would want h to be small. \n",
    "\n",
    "###### c)\n",
    "\n",
    "$$N_1(h) = \\frac{f(x+h)-f(x-h)}{2h}$$ \n",
    "\n",
    "Let $M = f'(x)$ since $N_1(h)$ is the 3-pt centered diff. formula, we know its $\\mathcal{O}(2)$ so : \n",
    "\n",
    "$$N_2(h) = \\frac{2f'(x)h + \\frac{2}{3!}f'''(x)h^3+ \\frac{2}{5!}f^{(5)}(x)h^5}{2h} = f'(x) + \\frac{1}{6}f'''(x)h^2 + \\frac{1}{5!}f^{(5)}(x)h^4 + \\mathcal{O}(6)$$\n",
    "\n",
    "So $N_2(h)$ is $\\mathcal{O}(6)$.  \n",
    "\n"
   ]
  },
  {
   "cell_type": "code",
   "execution_count": null,
   "metadata": {},
   "outputs": [],
   "source": []
  }
 ],
 "metadata": {
  "kernelspec": {
   "display_name": "Python 3",
   "language": "python",
   "name": "python3"
  },
  "language_info": {
   "codemirror_mode": {
    "name": "ipython",
    "version": 3
   },
   "file_extension": ".py",
   "mimetype": "text/x-python",
   "name": "python",
   "nbconvert_exporter": "python",
   "pygments_lexer": "ipython3",
   "version": "3.6.4"
  }
 },
 "nbformat": 4,
 "nbformat_minor": 2
}
