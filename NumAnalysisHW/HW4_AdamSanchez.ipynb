{
 "cells": [
  {
   "cell_type": "markdown",
   "metadata": {},
   "source": [
    "# Homework 4\n",
    "## Adam Sanchez \n",
    "### MATH 4650"
   ]
  },
  {
   "cell_type": "markdown",
   "metadata": {},
   "source": [
    "<b> Problem 1"
   ]
  },
  {
   "cell_type": "markdown",
   "metadata": {},
   "source": [
    "a) "
   ]
  },
  {
   "cell_type": "markdown",
   "metadata": {},
   "source": [
    "   i) $$K_{f}^{rel}(x) = \\left|\\frac{x}{\\frac{1}{1-x}}\\frac{1}{(1-x)^2}\\right| = \\left|\\frac{x-x^2}{(1-x)^2}\\right| = \\left|\\frac{x}{1-x}\\right|$$ Now: $$\\lim_{x\\to\\infty} \\left|\\frac{x}{1-x}\\right| = \\infty$$ So when $x \\approx 1$ the relative condition number is very bad! "
   ]
  },
  {
   "cell_type": "markdown",
   "metadata": {},
   "source": [
    "ii) "
   ]
  },
  {
   "cell_type": "code",
   "execution_count": 53,
   "metadata": {},
   "outputs": [
    {
     "name": "stdout",
     "output_type": "stream",
     "text": [
      "9996891514695.885\n",
      "The error is: 3108485304.1152344\n",
      "The numer of correct digits are: 3.5074511814908544\n"
     ]
    }
   ],
   "source": [
    "import math \n",
    "f = lambda x: 1/(1-x)\n",
    "x = 1-(10**(-13))\n",
    "print(f(x))\n",
    "error = 10**(13)-f(x)\n",
    "print('The error is:', error)"
   ]
  },
  {
   "cell_type": "markdown",
   "metadata": {},
   "source": [
    "iii). There are 3 correct digits, but this expected because we know the relative condition number of $f(x)$ is bad at $x \\approx 1$"
   ]
  },
  {
   "cell_type": "code",
   "execution_count": 54,
   "metadata": {},
   "outputs": [
    {
     "name": "stdout",
     "output_type": "stream",
     "text": [
      "The numer of correct digits are: 3.5074511814908544\n"
     ]
    }
   ],
   "source": [
    "print('The numer of correct digits are:',-math.log10(error / (10**(13))))"
   ]
  },
  {
   "cell_type": "markdown",
   "metadata": {},
   "source": [
    "iv) All the digits are correct as we can see below: "
   ]
  },
  {
   "cell_type": "code",
   "execution_count": 56,
   "metadata": {},
   "outputs": [
    {
     "name": "stdout",
     "output_type": "stream",
     "text": [
      "8796093022208.0\n",
      "The error is: 0.0\n"
     ]
    }
   ],
   "source": [
    "x = 1-(2**(-43))\n",
    "print(f(x))\n",
    "error = 2**(43)-f(x)\n",
    "print('The error is:', error)"
   ]
  },
  {
   "cell_type": "markdown",
   "metadata": {},
   "source": []
  },
  {
   "cell_type": "markdown",
   "metadata": {},
   "source": []
  },
  {
   "cell_type": "markdown",
   "metadata": {},
   "source": [
    "b) First lets find $f'(x)$ because that looks like a headache, honestly I plugged this into to a calcultor because computers are faster at ths: \n",
    "\n",
    "$$ f'(x) = -\\frac{d-c}{(x-2)^2}$$\n",
    "\n",
    "Now lets plug it in: \n",
    "\n",
    "$$K_{f}^{rel}(x) = \\left|\\frac{\\frac{x}{\\frac{c}{1-x}+d}}{\\frac{1}{1-x}+1}\\frac{-(c-d)}{(x-2)^2}\\right| = \n",
    "                    \\left|\\frac{\\left(\\frac{1}{1-x}+1\\right)x}{\\frac{c}{1-x}+d}\\frac{-(c-d)}{(x-2)^2}\\right| = \n",
    "                    \\left|\\frac{x(2-x)}{c-dx+d}\\frac{-(c-d)}{(x-2)^2}\\right| = \n",
    "                    \\left|-\\frac{(2x-x^2)(c-d)}{(c-dx+d)(x-2)^2}\\right|\n",
    " $$\n",
    " \n",
    " $$K_{f}^{rel}(1) = \\left|-\\frac{(2-1)(c-d)}{(c-d+d)(1-2)^2}\\right| = \\left|\\frac{c-d}{c}\\right|$$"
   ]
  },
  {
   "cell_type": "markdown",
   "metadata": {},
   "source": [
    "<b> Problem 2"
   ]
  },
  {
   "cell_type": "code",
   "execution_count": 13,
   "metadata": {},
   "outputs": [],
   "source": [
    "import matplotlib.pyplot as plt\n",
    "import numpy as np\n",
    "import scipy.interpolate as interp"
   ]
  },
  {
   "cell_type": "markdown",
   "metadata": {},
   "source": [
    "a) It looks like the decay of the natual spline error decays at a very fastrate (quadric rate) as n get bigger, and not-a-knot error decays at a slower rate, probably linear. "
   ]
  },
  {
   "cell_type": "code",
   "execution_count": 41,
   "metadata": {},
   "outputs": [],
   "source": [
    "error_natural=[]\n",
    "error_nak = []\n",
    "n=[]\n",
    "mr = [10, 10**2, 10**3, 10**4, 10**5]\n",
    "for i in mr:\n",
    "    x = np.linspace(1.01,1.99, i)\n",
    "    y = np.sin(20*x)\n",
    "    s1 = interp.CubicSpline(x, y, bc_type = 'natural')\n",
    "    s2 = interp.CubicSpline(x, y, bc_type = 'not-a-knot')\n",
    "    error_natural.append(max(abs(s1(x)-y)))\n",
    "    error_nak.append(max(abs(s2(x)-y)))\n",
    "    n.append(i)"
   ]
  },
  {
   "cell_type": "code",
   "execution_count": 43,
   "metadata": {},
   "outputs": [
    {
     "data": {
      "text/plain": [
       "<matplotlib.legend.Legend at 0x110097c88>"
      ]
     },
     "execution_count": 43,
     "metadata": {},
     "output_type": "execute_result"
    },
    {
     "data": {
      "image/png": "[encoded data removed]",
      "text/plain": [
       "<matplotlib.figure.Figure at 0x11027db70>"
      ]
     },
     "metadata": {},
     "output_type": "display_data"
    }
   ],
   "source": [
    "plt.plot(n, error_natural, n, error_nak)\n",
    "plt.legend(['natural', 'not-a-knot'], fontsize = 13)"
   ]
  },
  {
   "cell_type": "markdown",
   "metadata": {},
   "source": [
    "b) This sort of makes sense to me. Becasue not-a-knot requires s''' to be continious and natural only has to calculate s'' it would make sense that the error decays faster in natural"
   ]
  },
  {
   "cell_type": "markdown",
   "metadata": {},
   "source": [
    "c) The error decay looks very diffent. Natural looks like it decays at a fast rate then slows to liner, while not-a-knot looks like it decays very fast. I assume this is because we are now including the endpoints.  "
   ]
  },
  {
   "cell_type": "code",
   "execution_count": 44,
   "metadata": {},
   "outputs": [],
   "source": [
    "error_natural=[]\n",
    "error_nak = []\n",
    "n=[]\n",
    "mr = [10, 10**2, 10**3, 10**4, 10**5]\n",
    "for i in mr:\n",
    "    x = np.linspace(1,2, i)\n",
    "    y = np.sin(20*x)\n",
    "    s1 = interp.CubicSpline(x, y, bc_type = 'natural')\n",
    "    s2 = interp.CubicSpline(x, y, bc_type = 'not-a-knot')\n",
    "    error_natural.append(max(abs(s1(x)-y)))\n",
    "    error_nak.append(max(abs(s2(x)-y)))\n",
    "    n.append(i)"
   ]
  },
  {
   "cell_type": "code",
   "execution_count": 45,
   "metadata": {},
   "outputs": [
    {
     "data": {
      "text/plain": [
       "<matplotlib.legend.Legend at 0x10a28a1d0>"
      ]
     },
     "execution_count": 45,
     "metadata": {},
     "output_type": "execute_result"
    },
    {
     "data": {
      "image/png": "[encoded data removed]",
      "text/plain": [
       "<matplotlib.figure.Figure at 0x10a28acf8>"
      ]
     },
     "metadata": {},
     "output_type": "display_data"
    }
   ],
   "source": [
    "plt.plot(n, error_natural, n, error_nak)\n",
    "plt.legend(['natural', 'not-a-knot'], fontsize = 13)"
   ]
  },
  {
   "cell_type": "markdown",
   "metadata": {},
   "source": [
    "d) It looks like our error for natural is just constat at value greater than 0 and the error for not-a-knot is also constant but for a lower value. I dont know why this is. Maybe because its a piecewise so its jumping around?\n"
   ]
  },
  {
   "cell_type": "code",
   "execution_count": 59,
   "metadata": {},
   "outputs": [],
   "source": [
    "error_natural=[]\n",
    "error_nak = []\n",
    "n=[]\n",
    "mr = [10, 10**2, 10**3, 10**4, 10**5]\n",
    "for i in mr:\n",
    "    g = np.piecewise(x, [x < 1.3, x >= 1.3], [lambda x: np.sin(20*x), lambda x: np.sin(17.4-20*x)])\n",
    "    s1 = interp.CubicSpline(x, g, bc_type = 'natural')\n",
    "    s2 = interp.CubicSpline(x, g, bc_type = 'not-a-knot')\n",
    "    error_natural.append(max(abs(s1(x)-g)))\n",
    "    error_nak.append(max(abs(s2(x)-g)))\n",
    "    n.append(i)"
   ]
  },
  {
   "cell_type": "code",
   "execution_count": 60,
   "metadata": {},
   "outputs": [
    {
     "data": {
      "text/plain": [
       "<matplotlib.legend.Legend at 0x110032b38>"
      ]
     },
     "execution_count": 60,
     "metadata": {},
     "output_type": "execute_result"
    },
    {
     "data": {
      "image/png": "[encoded data removed]",
      "text/plain": [
       "<matplotlib.figure.Figure at 0x110032ba8>"
      ]
     },
     "metadata": {},
     "output_type": "display_data"
    }
   ],
   "source": [
    "plt.plot(n, error_natural, n, error_nak)\n",
    "plt.legend(['natural', 'not-a-knot'], fontsize = 13)"
   ]
  },
  {
   "cell_type": "code",
   "execution_count": null,
   "metadata": {},
   "outputs": [],
   "source": []
  }
 ],
 "metadata": {
  "kernelspec": {
   "display_name": "Python 3",
   "language": "python",
   "name": "python3"
  },
  "language_info": {
   "codemirror_mode": {
    "name": "ipython",
    "version": 3
   },
   "file_extension": ".py",
   "mimetype": "text/x-python",
   "name": "python",
   "nbconvert_exporter": "python",
   "pygments_lexer": "ipython3",
   "version": "3.6.4"
  }
 },
 "nbformat": 4,
 "nbformat_minor": 2
}
