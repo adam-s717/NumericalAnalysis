{
 "cells": [
  {
   "cell_type": "markdown",
   "metadata": {},
   "source": [
    "# Homework 7\n",
    "## Adam Sanchez \n",
    "### MATH 4650"
   ]
  },
  {
   "cell_type": "markdown",
   "metadata": {},
   "source": [
    "______________________________________________________________________________________________________________________"
   ]
  },
  {
   "cell_type": "markdown",
   "metadata": {},
   "source": [
    "### 1)"
   ]
  },
  {
   "cell_type": "code",
   "execution_count": 6,
   "metadata": {},
   "outputs": [],
   "source": [
    "from scipy.special import roots_laguerre\n",
    "import numpy as np"
   ]
  },
  {
   "cell_type": "markdown",
   "metadata": {},
   "source": [
    "###### a)"
   ]
  },
  {
   "cell_type": "code",
   "execution_count": 242,
   "metadata": {},
   "outputs": [],
   "source": [
    "import numpy as np \n",
    "import math\n",
    "import matplotlib.pyplot as plt\n",
    "\n",
    "\n",
    "def f(x):\n",
    "    return 1/(1+x**2)\n",
    "\n",
    "def integrate(deg): \n",
    "    sum = 0 \n",
    "    x, w = np.polynomial.legendre.leggauss(deg)\n",
    "    for i in range(deg): \n",
    "        sum += w[i]*f(x[i])\n",
    "    return sum; \n",
    "\n",
    "N = 1000\n",
    "I = []\n",
    "err = [] \n",
    "for i in range(1,N):\n",
    "    q = 2*integrate(i)\n",
    "    er = abs(q-np.pi)\n",
    "    I.append(q)\n",
    "    err.append(er)\n",
    "    "
   ]
  },
  {
   "cell_type": "code",
   "execution_count": 243,
   "metadata": {},
   "outputs": [
    {
     "data": {
      "text/plain": [
       "[<matplotlib.lines.Line2D at 0x114eaa240>]"
      ]
     },
     "execution_count": 243,
     "metadata": {},
     "output_type": "execute_result"
    },
    {
     "data": {
      "image/png": "[encoded data removed]",
      "text/plain": [
       "<matplotlib.figure.Figure at 0x114cf2f98>"
      ]
     },
     "metadata": {},
     "output_type": "display_data"
    }
   ],
   "source": [
    "plt.loglog(err)"
   ]
  },
  {
   "cell_type": "code",
   "execution_count": 248,
   "metadata": {},
   "outputs": [
    {
     "name": "stdout",
     "output_type": "stream",
     "text": [
      "The min error is  0.0 and occurs when d =  20\n"
     ]
    }
   ],
   "source": [
    "print('The min error is ', min(err), 'and occurs when d = ', err.index(min(err)))"
   ]
  },
  {
   "cell_type": "markdown",
   "metadata": {},
   "source": [
    "It looks like as the number of degrees increases we quickly become more accurate and we we hover around an error of $10^{-15}$. That being said Because $\\pi$ is transendiential when we have an error of 0 im sure we are just at machine precision.  "
   ]
  },
  {
   "cell_type": "markdown",
   "metadata": {},
   "source": [
    "###### b)"
   ]
  },
  {
   "cell_type": "markdown",
   "metadata": {},
   "source": [
    "Note, with $x = e^t - 1$, our function is now $e^{-t}$"
   ]
  },
  {
   "cell_type": "code",
   "execution_count": 283,
   "metadata": {},
   "outputs": [],
   "source": [
    "f = lambda x: math.exp(-x)\n",
    "def integrate(deg): \n",
    "    sum = 0\n",
    "    x, w = np.polynomial.legendre.leggauss(deg)\n",
    "    for i in range(deg): \n",
    "        sum += w[i]*f(x[i])\n",
    "    return sum; \n",
    "\n",
    "N = 1000\n",
    "I = []\n",
    "err = [] \n",
    "for i in range(1,N):\n",
    "    q = 2*integrate(i)\n",
    "    er = abs(q-np.pi)\n",
    "    I.append(q)\n",
    "    err.append(er)"
   ]
  },
  {
   "cell_type": "code",
   "execution_count": 284,
   "metadata": {},
   "outputs": [
    {
     "data": {
      "text/plain": [
       "[<matplotlib.lines.Line2D at 0x1515b82b70>]"
      ]
     },
     "execution_count": 284,
     "metadata": {},
     "output_type": "execute_result"
    },
    {
     "data": {
      "image/png": "[encoded data removed]",
      "text/plain": [
       "<matplotlib.figure.Figure at 0x1515b88ba8>"
      ]
     },
     "metadata": {},
     "output_type": "display_data"
    }
   ],
   "source": [
    "plt.loglog(err)"
   ]
  },
  {
   "cell_type": "markdown",
   "metadata": {},
   "source": [
    "Well this looks very odd. It appears that our error is fixed at a rather large value no matter what d is. I will talk more about what I think is happeneing in part c. "
   ]
  },
  {
   "cell_type": "markdown",
   "metadata": {},
   "source": [
    "###### c)\n",
    "\n",
    "So for part b I think we are some weird things happening with the weights from Leggauss polynomial and our function that is now just $e^{-x}$ I think this has to do with the fact that the weights are orthogonal to the weight function, which just so happens to be $e^{-x}$ so I think we are getting some weird cancelation. So for this problem I dont thing the change of variables would be the best and I would just use part a instead. "
   ]
  },
  {
   "cell_type": "markdown",
   "metadata": {},
   "source": [
    "______________________________________________________________________________________________________________________"
   ]
  },
  {
   "cell_type": "markdown",
   "metadata": {},
   "source": [
    "### 2"
   ]
  },
  {
   "cell_type": "markdown",
   "metadata": {},
   "source": [
    "###### a)"
   ]
  },
  {
   "cell_type": "code",
   "execution_count": 202,
   "metadata": {},
   "outputs": [],
   "source": [
    "from scipy.integrate import quadrature, quad, dblquad \n",
    "import time "
   ]
  },
  {
   "cell_type": "code",
   "execution_count": 183,
   "metadata": {},
   "outputs": [],
   "source": [
    "\n",
    "def baseQuadratureRule(f,a,b):\n",
    "    Q, errEstimate = quad(f,a,b,epsabs=1.5e-8,epsrel=1.5e-8,limit=50)\n",
    "    return Q\n",
    "\n",
    "def my2D_quadrature(f,a,b,c,d, baseQuadRule ):\n",
    "    @np.vectorize \n",
    "    def g(x):\n",
    "    \n",
    "        def f_as_fcn_of_y(y):\n",
    "            return f(x,y)\n",
    "\n",
    "    \n",
    "        Q = baseQuadRule( f_as_fcn_of_y, c, d )\n",
    "        return Q\n",
    "  \n",
    "    Q = baseQuadRule( g, a, b )\n",
    "    return Q\n",
    "\n",
    "def my3D_quadrature(f,a1,b1,a2,b2,a3,b3, my2D_quadrature ):\n",
    "    @np.vectorize \n",
    "    def g(x):\n",
    "    \n",
    "        def f_as_fcn_of_yz(y,z):\n",
    "            return f(x,y,z)\n",
    "\n",
    "    \n",
    "        Q = my2D_quadrature( f_as_fcn_of_yz, a2, b2, a3, b3, baseQuadratureRule )\n",
    "        return Q\n",
    "  \n",
    "    Q = baseQuadratureRule( g, a1, b1 )\n",
    "    return Q\n",
    "def my4D_quadrature(f,a1,b1,a2,b2,a3,b3,a4,b4, my3D_quadrature ):\n",
    "    @np.vectorize \n",
    "    def g(x):\n",
    "    \n",
    "        def f_as_fcn_of_yzw(y,z,w):\n",
    "            return f(x,y,z,w)\n",
    "\n",
    "    \n",
    "        Q = my3D_quadrature( f_as_fcn_of_yzw, a2, b2, a3, b3, a4, b4,  my2D_quadrature )\n",
    "        return Q\n",
    "  \n",
    "    Q = baseQuadratureRule( g, a1, b1 )\n",
    "    return Q"
   ]
  },
  {
   "cell_type": "markdown",
   "metadata": {},
   "source": [
    "###### b)"
   ]
  },
  {
   "cell_type": "code",
   "execution_count": 147,
   "metadata": {},
   "outputs": [],
   "source": [
    "from scipy.linalg import hilbert\n",
    "d=2\n",
    "A = hilbert(d)\n",
    "def f(x,y): \n",
    "    args = np.array([x,y])\n",
    "    return args.T.dot(args.dot(A))\n",
    "def p(x,y): \n",
    "    return((1/(2*np.pi)**(2/2))*np.exp(-(x**2+y**2)/2))\n",
    "def g(x,y): \n",
    "    return(f(x,y)*p(x,y))\n",
    "#my2D_quadrature(g,-5,5,-5,5, baseQuadratureRule(g, -5,5))\n"
   ]
  },
  {
   "cell_type": "code",
   "execution_count": 148,
   "metadata": {},
   "outputs": [
    {
     "data": {
      "text/plain": [
       "1.3333119816098895"
      ]
     },
     "execution_count": 148,
     "metadata": {},
     "output_type": "execute_result"
    }
   ],
   "source": [
    "my2D_quadrature(g,-5,5,-5,5, baseQuadratureRule)"
   ]
  },
  {
   "cell_type": "code",
   "execution_count": 174,
   "metadata": {},
   "outputs": [],
   "source": [
    "d=3\n",
    "A = hilbert(d)\n",
    "def f(x,y,z): \n",
    "    args = np.array([x,y,z])\n",
    "    return args.T.dot(args.dot(A))\n",
    "def p(x,y,z): \n",
    "    return((1/(2*np.pi)**(3/2))*np.exp(-(x**2+y**2+z**2)/2))\n",
    "def g(x,y,z): \n",
    "    return(f(x,y,z)*p(x,y,z))"
   ]
  },
  {
   "cell_type": "code",
   "execution_count": 179,
   "metadata": {},
   "outputs": [
    {
     "data": {
      "text/plain": [
       "1.533307899800628"
      ]
     },
     "execution_count": 179,
     "metadata": {},
     "output_type": "execute_result"
    }
   ],
   "source": [
    "my3D_quadrature(g,-5,5,-5,5,-5,5, my2D_quadrature )"
   ]
  },
  {
   "cell_type": "code",
   "execution_count": 184,
   "metadata": {},
   "outputs": [],
   "source": [
    "d=4\n",
    "A = hilbert(d)\n",
    "def f(x,y,z,w): \n",
    "    args = np.array([x,y,z,w])\n",
    "    return args.T.dot(args.dot(A))\n",
    "def p(x,y,z,w): \n",
    "    return((1/(2*np.pi)**(4/2))*np.exp(-(x**2+y**2+z**2+w**2)/2))\n",
    "def g4(x,y,z,w): \n",
    "    return(f(x,y,z,w)*p(x,y,z,w))"
   ]
  },
  {
   "cell_type": "code",
   "execution_count": 185,
   "metadata": {},
   "outputs": [
    {
     "data": {
      "text/plain": [
       "1.6761617121244665"
      ]
     },
     "execution_count": 185,
     "metadata": {},
     "output_type": "execute_result"
    }
   ],
   "source": [
    "my4D_quadrature(g4,-5,5,-5,5,-5,5,-5,5,my3D_quadrature)"
   ]
  },
  {
   "cell_type": "markdown",
   "metadata": {},
   "source": [
    "###### i) \n",
    "\n",
    "As we can see from the line of code above, $ E\\left[f(x)\\right]\\approx 1.6761676$, when $d = 4$. \n",
    "\n",
    "###### ii) \n",
    "\n",
    "My error tollerence (both absolute annd relative) for 1D is very low so it doesnt surprise that 4D took a very long time to run (it was approx. 5 min). For both 2D and 3D the functions were evulated much quicker as would be expected in a problem like this. "
   ]
  },
  {
   "cell_type": "markdown",
   "metadata": {},
   "source": [
    "###### c)"
   ]
  },
  {
   "cell_type": "code",
   "execution_count": 219,
   "metadata": {},
   "outputs": [],
   "source": [
    "def MonteCarlo(d, N, Verbose = True):\n",
    "    start_time = time.time()\n",
    "    A = hilbert(d)\n",
    "    I = 0.0\n",
    "    for i in range(N):\n",
    "        x = np.random.randn(d)\n",
    "        f = x.T.dot(x.dot(A))\n",
    "        I += f\n",
    "    I = (1/N)*I\n",
    "    end_time = time.time()\n",
    "    if Verbose == True:\n",
    "        print('Excution time is:',end_time-start_time, ' seconds')\n",
    "    return I"
   ]
  },
  {
   "cell_type": "markdown",
   "metadata": {},
   "source": [
    "Running our MonteCarlo for d = 2,3,4:"
   ]
  },
  {
   "cell_type": "code",
   "execution_count": 218,
   "metadata": {
    "scrolled": true
   },
   "outputs": [
    {
     "name": "stdout",
     "output_type": "stream",
     "text": [
      "For d=2:  1.3342270837817078\n",
      "For d=3:  1.53219163268725\n",
      "For d=4:  1.678155905224539\n"
     ]
    }
   ],
   "source": [
    "I2 = MonteCarlo(2,10**6, Verbose = False)\n",
    "I3 = MonteCarlo(3,10**6, Verbose = False)\n",
    "I4 = MonteCarlo(4,10**6, Verbose = False)\n",
    "\n",
    "print(\"For d=2: \", I2)\n",
    "print(\"For d=3: \", I3)\n",
    "print(\"For d=4: \", I4)"
   ]
  },
  {
   "cell_type": "markdown",
   "metadata": {},
   "source": [
    "Now finding the runtime and error for d = 4,12,100"
   ]
  },
  {
   "cell_type": "code",
   "execution_count": 221,
   "metadata": {},
   "outputs": [
    {
     "name": "stdout",
     "output_type": "stream",
     "text": [
      "Excution time is: 2.024691104888916  seconds\n",
      "Error for d=4 is: 0.00175656939114055\n"
     ]
    }
   ],
   "source": [
    "#runtime and error for d=4\n",
    "I4 = MonteCarlo(4,10**6, Verbose = True)\n",
    "print('Error for d=4 is:', abs(I4 - 1.6761617121244665))"
   ]
  },
  {
   "cell_type": "code",
   "execution_count": 222,
   "metadata": {},
   "outputs": [
    {
     "name": "stdout",
     "output_type": "stream",
     "text": [
      "Excution time is: 2.243312120437622  seconds\n",
      "Error for d=12 is: 0.0021304304003479935\n"
     ]
    }
   ],
   "source": [
    "#runtime and error for d=12\n",
    "I12 = MonteCarlo(12,10**6, Verbose = True)\n",
    "print('Error for d=12 is:', abs(I12 - 2.224352838648))"
   ]
  },
  {
   "cell_type": "code",
   "execution_count": 224,
   "metadata": {},
   "outputs": [
    {
     "name": "stdout",
     "output_type": "stream",
     "text": [
      "Excution time is: 5.517652988433838  seconds\n",
      "Error for d=100 is: 0.002000626990464216\n"
     ]
    }
   ],
   "source": [
    "#runtime and error for d=100\n",
    "I100 = MonteCarlo(100,10**6, Verbose = True)\n",
    "print('Error for d=100 is:', abs(I100 - 3.284342189302))"
   ]
  },
  {
   "cell_type": "markdown",
   "metadata": {},
   "source": [
    "###### d)\n",
    "\n",
    "It seems like quadature is probably more accurate than Monte Carlo is expically in low levels of d. However quadature would probably be almost impossible to run on my compute for d =100 ao I think when we have igh dimensions Monte Carlo is the way to go!"
   ]
  }
 ],
 "metadata": {
  "kernelspec": {
   "display_name": "Python 3",
   "language": "python",
   "name": "python3"
  },
  "language_info": {
   "codemirror_mode": {
    "name": "ipython",
    "version": 3
   },
   "file_extension": ".py",
   "mimetype": "text/x-python",
   "name": "python",
   "nbconvert_exporter": "python",
   "pygments_lexer": "ipython3",
   "version": "3.6.4"
  }
 },
 "nbformat": 4,
 "nbformat_minor": 2
}
